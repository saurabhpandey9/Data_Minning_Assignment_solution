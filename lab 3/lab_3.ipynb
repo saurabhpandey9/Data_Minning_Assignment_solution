{
  "nbformat": 4,
  "nbformat_minor": 0,
  "metadata": {
    "colab": {
      "name": "lab 3",
      "provenance": [],
      "collapsed_sections": [],
      "toc_visible": true
    },
    "kernelspec": {
      "display_name": "Python 3",
      "name": "python3"
    }
  },
  "cells": [
    {
      "cell_type": "code",
      "metadata": {
        "id": "AkQvIs7FLtnf",
        "colab_type": "code",
        "outputId": "c2d2b7e6-5502-44c7-81ec-132bb4086d96",
        "colab": {
          "base_uri": "https://localhost:8080/",
          "height": 51
        }
      },
      "source": [
        "#creating vector of 10 elements\n",
        "import numpy as np\n",
        "import statistics\n",
        "import math\n",
        "import random\n",
        "import numpy as np\n",
        "import matplotlib.mlab as mlab\n",
        "import matplotlib.pyplot as plt\n",
        "from scipy import stats\n",
        "\n",
        "a = [10, 15, 16, 18, 20, 25, 18, 15, 16, 21]\n",
        "a = np.array(a)\n",
        "sum=0\n",
        "\n",
        "for i in a:\n",
        "    sum = i+sum\n",
        "meen = sum/10\n",
        "print(\"Mean of Array is\",meen)\n",
        "print(statistics.mean(a))"
      ],
      "execution_count": 0,
      "outputs": [
        {
          "output_type": "stream",
          "text": [
            "Mean of Array is 17.4\n",
            "17\n"
          ],
          "name": "stdout"
        }
      ]
    },
    {
      "cell_type": "code",
      "metadata": {
        "id": "8gQa3_4kL1Qj",
        "colab_type": "code",
        "outputId": "c6f26836-356e-4c2c-e7d8-5c348ce5aa33",
        "colab": {
          "base_uri": "https://localhost:8080/",
          "height": 51
        }
      },
      "source": [
        "#To calculate variance\n",
        "var = 0\n",
        "for i in a:\n",
        "        var = (abs(meen-i)**2)+var\n",
        "var/=10\n",
        "print(\"Variance is \",var)\n",
        "print(np.var(a)) #to check"
      ],
      "execution_count": 0,
      "outputs": [
        {
          "output_type": "stream",
          "text": [
            "Variance is  14.84\n",
            "14.84\n"
          ],
          "name": "stdout"
        }
      ]
    },
    {
      "cell_type": "code",
      "metadata": {
        "id": "WuY5ePIDL8Au",
        "colab_type": "code",
        "outputId": "e1ffc520-bced-4f81-a3dd-3750f1f49017",
        "colab": {
          "base_uri": "https://localhost:8080/",
          "height": 51
        }
      },
      "source": [
        "# To calculate standard deviation\n",
        "print(math.sqrt(var))\n",
        "print(np.std(a)) #to check"
      ],
      "execution_count": 0,
      "outputs": [
        {
          "output_type": "stream",
          "text": [
            "3.8522720568516444\n",
            "3.8522720568516444\n"
          ],
          "name": "stdout"
        }
      ]
    },
    {
      "cell_type": "code",
      "metadata": {
        "id": "4FFLLFTAMUBu",
        "colab_type": "code",
        "outputId": "8c6fda9b-8e1b-477a-b932-eaa48bfdd8d7",
        "colab": {
          "base_uri": "https://localhost:8080/",
          "height": 34
        }
      },
      "source": [
        "# To calculate standard error\n",
        "\n",
        "print(stats.sem(a, axis=None, ddof=0))\n",
        "\n",
        "\n",
        "# # Sampling for 100 samples\n",
        "\n",
        "# Sampling or Bootstrapping with replacement and repetition\n",
        "a_new = []  # 100 samples of size 10 \n",
        "for i in range(100):\n",
        "    a_new.append(random.choices(a,k=10))\n",
        "\n",
        "\n",
        "# Mean of 100 samples\n",
        "mn = []\n",
        "for i in range(100):\n",
        "    mn.append(statistics.mean(a_new[i]))"
      ],
      "execution_count": 0,
      "outputs": [
        {
          "output_type": "stream",
          "text": [
            "1.2181953866272848\n"
          ],
          "name": "stdout"
        }
      ]
    },
    {
      "cell_type": "code",
      "metadata": {
        "id": "yrxz1yFJMbuW",
        "colab_type": "code",
        "outputId": "63b0bb8d-f17c-4f1a-cd4a-a57e0ddbdeb9",
        "colab": {
          "base_uri": "https://localhost:8080/",
          "height": 34
        }
      },
      "source": [
        "# standard deviation of 100 samples mean\n",
        "print(statistics.stdev(mn))"
      ],
      "execution_count": 0,
      "outputs": [
        {
          "output_type": "stream",
          "text": [
            "1.0\n"
          ],
          "name": "stdout"
        }
      ]
    },
    {
      "cell_type": "code",
      "metadata": {
        "id": "UBClgRN0Mgtu",
        "colab_type": "code",
        "outputId": "cc03a010-f168-430f-ed64-662d337e695b",
        "colab": {
          "base_uri": "https://localhost:8080/",
          "height": 269
        }
      },
      "source": [
        "# histogram of 100 mean of 100 sample\n",
        "num_bins = 10\n",
        "n, bins, patches = plt.hist(mn, num_bins, facecolor='orange', alpha=0.5)\n",
        "plt.show()"
      ],
      "execution_count": 0,
      "outputs": [
        {
          "output_type": "display_data",
          "data": {
            "image/png": "[encoded data removed]",
            "text/plain": [
              "<Figure size 432x288 with 1 Axes>"
            ]
          },
          "metadata": {
            "tags": []
          }
        }
      ]
    },
    {
      "cell_type": "code",
      "metadata": {
        "id": "XOJmrdXRMxPV",
        "colab_type": "code",
        "outputId": "09fca6e3-0f62-46c3-bef5-6e06f8366b04",
        "colab": {
          "base_uri": "https://localhost:8080/",
          "height": 34
        }
      },
      "source": [
        "# std. error of vector of 100s means \n",
        "print(stats.sem(mn, axis=None, ddof=0))\n",
        "\n",
        "\n",
        "# # Sampling for 1000 samples\n",
        "# Sampling or Bootstrapping with replacement and repetition\n",
        "b = []  # 1000 samples of size 10 \n",
        "for i in range(1000):\n",
        "    b.append(random.choices(a,k=10))\n",
        "\n",
        "# Mean of 1000 samples\n",
        "mns = []\n",
        "for i in range(100):\n",
        "    mns.append(statistics.mean(b[i]))"
      ],
      "execution_count": 0,
      "outputs": [
        {
          "output_type": "stream",
          "text": [
            "0.12302845199383758\n"
          ],
          "name": "stdout"
        }
      ]
    },
    {
      "cell_type": "code",
      "metadata": {
        "id": "z67mUbPzM3OF",
        "colab_type": "code",
        "outputId": "adcb6541-bab6-447d-e5f9-d4f4578bb3e5",
        "colab": {
          "base_uri": "https://localhost:8080/",
          "height": 34
        }
      },
      "source": [
        "# standard deviation of 1000 samples mean\n",
        "print(statistics.stdev(mns))"
      ],
      "execution_count": 0,
      "outputs": [
        {
          "output_type": "stream",
          "text": [
            "1.0\n"
          ],
          "name": "stdout"
        }
      ]
    },
    {
      "cell_type": "code",
      "metadata": {
        "id": "civ2t-BVM5eV",
        "colab_type": "code",
        "outputId": "b533edc8-6f36-410b-d500-ac8946e79ec5",
        "colab": {
          "base_uri": "https://localhost:8080/",
          "height": 269
        }
      },
      "source": [
        "# histogram of 1000 mean of 1000 sample\n",
        "num_bins = 10\n",
        "n, bins, patches = plt.hist(mns, num_bins, facecolor='orange', alpha=0.5)\n",
        "plt.show()"
      ],
      "execution_count": 0,
      "outputs": [
        {
          "output_type": "display_data",
          "data": {
            "image/png": "[encoded data removed]",
            "text/plain": [
              "<Figure size 432x288 with 1 Axes>"
            ]
          },
          "metadata": {
            "tags": []
          }
        }
      ]
    },
    {
      "cell_type": "code",
      "metadata": {
        "id": "WGpE6DLZM8qe",
        "colab_type": "code",
        "outputId": "ed4c8ba8-beee-4a29-fb1f-4d7f8e8816d4",
        "colab": {
          "base_uri": "https://localhost:8080/",
          "height": 34
        }
      },
      "source": [
        "# std. error of vector of 1000s means \n",
        "stats.sem(mns, axis=None, ddof=0)"
      ],
      "execution_count": 0,
      "outputs": [
        {
          "output_type": "execute_result",
          "data": {
            "text/plain": [
              "0.12496399481450646"
            ]
          },
          "metadata": {
            "tags": []
          },
          "execution_count": 23
        }
      ]
    }
  ]
}