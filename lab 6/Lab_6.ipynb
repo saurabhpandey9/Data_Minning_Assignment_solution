{
  "nbformat": 4,
  "nbformat_minor": 0,
  "metadata": {
    "colab": {
      "name": "Lab 6",
      "provenance": [],
      "collapsed_sections": [],
      "toc_visible": true
    },
    "kernelspec": {
      "name": "python3",
      "display_name": "Python 3"
    }
  },
  "cells": [
    {
      "cell_type": "code",
      "metadata": {
        "id": "vcVdElOCYH3c",
        "colab_type": "code",
        "colab": {}
      },
      "source": [
        "import numpy as np\n",
        "import pandas as pd\n",
        "import math, random"
      ],
      "execution_count": 0,
      "outputs": []
    },
    {
      "cell_type": "code",
      "metadata": {
        "id": "IAbgreoNcrv0",
        "colab_type": "code",
        "colab": {}
      },
      "source": [
        "data = pd.DataFrame({\"col1\": random.sample(range(1, 2000), 200)})\n",
        "data.size\n",
        "\n",
        "N = data.size"
      ],
      "execution_count": 0,
      "outputs": []
    },
    {
      "cell_type": "code",
      "metadata": {
        "id": "F3qR1ABFJF0t",
        "colab_type": "code",
        "outputId": "a76cdc7b-7e29-4b52-ce1a-d0c3a76925ec",
        "colab": {
          "base_uri": "https://localhost:8080/",
          "height": 1000
        }
      },
      "source": [
        "data"
      ],
      "execution_count": 0,
      "outputs": [
        {
          "output_type": "execute_result",
          "data": {
            "text/html": [
              "<div>\n",
              "<style scoped>\n",
              "    .dataframe tbody tr th:only-of-type {\n",
              "        vertical-align: middle;\n",
              "    }\n",
              "\n",
              "    .dataframe tbody tr th {\n",
              "        vertical-align: top;\n",
              "    }\n",
              "\n",
              "    .dataframe thead th {\n",
              "        text-align: right;\n",
              "    }\n",
              "</style>\n",
              "<table border=\"1\" class=\"dataframe\">\n",
              "  <thead>\n",
              "    <tr style=\"text-align: right;\">\n",
              "      <th></th>\n",
              "      <th>col1</th>\n",
              "    </tr>\n",
              "  </thead>\n",
              "  <tbody>\n",
              "    <tr>\n",
              "      <th>0</th>\n",
              "      <td>672</td>\n",
              "    </tr>\n",
              "    <tr>\n",
              "      <th>1</th>\n",
              "      <td>925</td>\n",
              "    </tr>\n",
              "    <tr>\n",
              "      <th>2</th>\n",
              "      <td>446</td>\n",
              "    </tr>\n",
              "    <tr>\n",
              "      <th>3</th>\n",
              "      <td>1236</td>\n",
              "    </tr>\n",
              "    <tr>\n",
              "      <th>4</th>\n",
              "      <td>945</td>\n",
              "    </tr>\n",
              "    <tr>\n",
              "      <th>5</th>\n",
              "      <td>483</td>\n",
              "    </tr>\n",
              "    <tr>\n",
              "      <th>6</th>\n",
              "      <td>1950</td>\n",
              "    </tr>\n",
              "    <tr>\n",
              "      <th>7</th>\n",
              "      <td>1215</td>\n",
              "    </tr>\n",
              "    <tr>\n",
              "      <th>8</th>\n",
              "      <td>255</td>\n",
              "    </tr>\n",
              "    <tr>\n",
              "      <th>9</th>\n",
              "      <td>1770</td>\n",
              "    </tr>\n",
              "    <tr>\n",
              "      <th>10</th>\n",
              "      <td>1214</td>\n",
              "    </tr>\n",
              "    <tr>\n",
              "      <th>11</th>\n",
              "      <td>756</td>\n",
              "    </tr>\n",
              "    <tr>\n",
              "      <th>12</th>\n",
              "      <td>1596</td>\n",
              "    </tr>\n",
              "    <tr>\n",
              "      <th>13</th>\n",
              "      <td>1489</td>\n",
              "    </tr>\n",
              "    <tr>\n",
              "      <th>14</th>\n",
              "      <td>1310</td>\n",
              "    </tr>\n",
              "    <tr>\n",
              "      <th>15</th>\n",
              "      <td>1921</td>\n",
              "    </tr>\n",
              "    <tr>\n",
              "      <th>16</th>\n",
              "      <td>1336</td>\n",
              "    </tr>\n",
              "    <tr>\n",
              "      <th>17</th>\n",
              "      <td>910</td>\n",
              "    </tr>\n",
              "    <tr>\n",
              "      <th>18</th>\n",
              "      <td>508</td>\n",
              "    </tr>\n",
              "    <tr>\n",
              "      <th>19</th>\n",
              "      <td>763</td>\n",
              "    </tr>\n",
              "    <tr>\n",
              "      <th>20</th>\n",
              "      <td>1899</td>\n",
              "    </tr>\n",
              "    <tr>\n",
              "      <th>21</th>\n",
              "      <td>605</td>\n",
              "    </tr>\n",
              "    <tr>\n",
              "      <th>22</th>\n",
              "      <td>684</td>\n",
              "    </tr>\n",
              "    <tr>\n",
              "      <th>23</th>\n",
              "      <td>624</td>\n",
              "    </tr>\n",
              "    <tr>\n",
              "      <th>24</th>\n",
              "      <td>989</td>\n",
              "    </tr>\n",
              "    <tr>\n",
              "      <th>25</th>\n",
              "      <td>857</td>\n",
              "    </tr>\n",
              "    <tr>\n",
              "      <th>26</th>\n",
              "      <td>956</td>\n",
              "    </tr>\n",
              "    <tr>\n",
              "      <th>27</th>\n",
              "      <td>464</td>\n",
              "    </tr>\n",
              "    <tr>\n",
              "      <th>28</th>\n",
              "      <td>1254</td>\n",
              "    </tr>\n",
              "    <tr>\n",
              "      <th>29</th>\n",
              "      <td>195</td>\n",
              "    </tr>\n",
              "    <tr>\n",
              "      <th>...</th>\n",
              "      <td>...</td>\n",
              "    </tr>\n",
              "    <tr>\n",
              "      <th>170</th>\n",
              "      <td>226</td>\n",
              "    </tr>\n",
              "    <tr>\n",
              "      <th>171</th>\n",
              "      <td>940</td>\n",
              "    </tr>\n",
              "    <tr>\n",
              "      <th>172</th>\n",
              "      <td>1951</td>\n",
              "    </tr>\n",
              "    <tr>\n",
              "      <th>173</th>\n",
              "      <td>152</td>\n",
              "    </tr>\n",
              "    <tr>\n",
              "      <th>174</th>\n",
              "      <td>1174</td>\n",
              "    </tr>\n",
              "    <tr>\n",
              "      <th>175</th>\n",
              "      <td>80</td>\n",
              "    </tr>\n",
              "    <tr>\n",
              "      <th>176</th>\n",
              "      <td>731</td>\n",
              "    </tr>\n",
              "    <tr>\n",
              "      <th>177</th>\n",
              "      <td>1337</td>\n",
              "    </tr>\n",
              "    <tr>\n",
              "      <th>178</th>\n",
              "      <td>390</td>\n",
              "    </tr>\n",
              "    <tr>\n",
              "      <th>179</th>\n",
              "      <td>1040</td>\n",
              "    </tr>\n",
              "    <tr>\n",
              "      <th>180</th>\n",
              "      <td>1636</td>\n",
              "    </tr>\n",
              "    <tr>\n",
              "      <th>181</th>\n",
              "      <td>1108</td>\n",
              "    </tr>\n",
              "    <tr>\n",
              "      <th>182</th>\n",
              "      <td>765</td>\n",
              "    </tr>\n",
              "    <tr>\n",
              "      <th>183</th>\n",
              "      <td>880</td>\n",
              "    </tr>\n",
              "    <tr>\n",
              "      <th>184</th>\n",
              "      <td>1046</td>\n",
              "    </tr>\n",
              "    <tr>\n",
              "      <th>185</th>\n",
              "      <td>1584</td>\n",
              "    </tr>\n",
              "    <tr>\n",
              "      <th>186</th>\n",
              "      <td>1925</td>\n",
              "    </tr>\n",
              "    <tr>\n",
              "      <th>187</th>\n",
              "      <td>1187</td>\n",
              "    </tr>\n",
              "    <tr>\n",
              "      <th>188</th>\n",
              "      <td>418</td>\n",
              "    </tr>\n",
              "    <tr>\n",
              "      <th>189</th>\n",
              "      <td>1126</td>\n",
              "    </tr>\n",
              "    <tr>\n",
              "      <th>190</th>\n",
              "      <td>1204</td>\n",
              "    </tr>\n",
              "    <tr>\n",
              "      <th>191</th>\n",
              "      <td>6</td>\n",
              "    </tr>\n",
              "    <tr>\n",
              "      <th>192</th>\n",
              "      <td>588</td>\n",
              "    </tr>\n",
              "    <tr>\n",
              "      <th>193</th>\n",
              "      <td>1380</td>\n",
              "    </tr>\n",
              "    <tr>\n",
              "      <th>194</th>\n",
              "      <td>1391</td>\n",
              "    </tr>\n",
              "    <tr>\n",
              "      <th>195</th>\n",
              "      <td>290</td>\n",
              "    </tr>\n",
              "    <tr>\n",
              "      <th>196</th>\n",
              "      <td>881</td>\n",
              "    </tr>\n",
              "    <tr>\n",
              "      <th>197</th>\n",
              "      <td>14</td>\n",
              "    </tr>\n",
              "    <tr>\n",
              "      <th>198</th>\n",
              "      <td>984</td>\n",
              "    </tr>\n",
              "    <tr>\n",
              "      <th>199</th>\n",
              "      <td>1105</td>\n",
              "    </tr>\n",
              "  </tbody>\n",
              "</table>\n",
              "<p>200 rows × 1 columns</p>\n",
              "</div>"
            ],
            "text/plain": [
              "     col1\n",
              "0     672\n",
              "1     925\n",
              "2     446\n",
              "3    1236\n",
              "4     945\n",
              "5     483\n",
              "6    1950\n",
              "7    1215\n",
              "8     255\n",
              "9    1770\n",
              "10   1214\n",
              "11    756\n",
              "12   1596\n",
              "13   1489\n",
              "14   1310\n",
              "15   1921\n",
              "16   1336\n",
              "17    910\n",
              "18    508\n",
              "19    763\n",
              "20   1899\n",
              "21    605\n",
              "22    684\n",
              "23    624\n",
              "24    989\n",
              "25    857\n",
              "26    956\n",
              "27    464\n",
              "28   1254\n",
              "29    195\n",
              "..    ...\n",
              "170   226\n",
              "171   940\n",
              "172  1951\n",
              "173   152\n",
              "174  1174\n",
              "175    80\n",
              "176   731\n",
              "177  1337\n",
              "178   390\n",
              "179  1040\n",
              "180  1636\n",
              "181  1108\n",
              "182   765\n",
              "183   880\n",
              "184  1046\n",
              "185  1584\n",
              "186  1925\n",
              "187  1187\n",
              "188   418\n",
              "189  1126\n",
              "190  1204\n",
              "191     6\n",
              "192   588\n",
              "193  1380\n",
              "194  1391\n",
              "195   290\n",
              "196   881\n",
              "197    14\n",
              "198   984\n",
              "199  1105\n",
              "\n",
              "[200 rows x 1 columns]"
            ]
          },
          "metadata": {
            "tags": []
          },
          "execution_count": 9
        }
      ]
    },
    {
      "cell_type": "code",
      "metadata": {
        "id": "PFmaxQK0QjWP",
        "colab_type": "code",
        "outputId": "f1f77ff6-c5f3-4109-fb5e-a8ea1c637085",
        "colab": {
          "base_uri": "https://localhost:8080/",
          "height": 34
        }
      },
      "source": [
        "# Scott's rule\n",
        "bin_num = int(3.49*(data.std())*(N**(-1/3)))\n",
        "print(\"Bin Size: \", bin_num)"
      ],
      "execution_count": 0,
      "outputs": [
        {
          "output_type": "stream",
          "text": [
            "Bin Size:  349\n"
          ],
          "name": "stdout"
        }
      ]
    },
    {
      "cell_type": "code",
      "metadata": {
        "id": "vodOzZcvSJ11",
        "colab_type": "code",
        "outputId": "754afbe3-8e56-4be6-ef03-7d7fc0f5404f",
        "colab": {
          "base_uri": "https://localhost:8080/",
          "height": 34
        }
      },
      "source": [
        "# Rice Rule\n",
        "bin_num = int(N**(1/3)*2)\n",
        "print(\"Bin Size: \", bin_num)"
      ],
      "execution_count": 0,
      "outputs": [
        {
          "output_type": "stream",
          "text": [
            "Bin Size:  11\n"
          ],
          "name": "stdout"
        }
      ]
    },
    {
      "cell_type": "code",
      "metadata": {
        "id": "NagpSXsHSd_U",
        "colab_type": "code",
        "outputId": "7c1bd140-6a02-4e95-c43e-513fb4578f28",
        "colab": {
          "base_uri": "https://localhost:8080/",
          "height": 34
        }
      },
      "source": [
        "# Freedman-Diaconis’s Rule\n",
        "median = data['col1'].median()\n",
        "left = pd.DataFrame({\"col1\": [data['col1'][i] for i in range(200) if data['col1'][i] <= median]})\n",
        "right = pd.DataFrame({\"col1\": [data['col1'][i] for i in range(200) if data['col1'][i] > median]})\n",
        "bin_num = int( 2*(right.median()-left.median())*(N**(-1/3)) )\n",
        "print(\"Bin Size: \", bin_num)"
      ],
      "execution_count": 0,
      "outputs": [
        {
          "output_type": "stream",
          "text": [
            "Bin Size:  348\n"
          ],
          "name": "stdout"
        }
      ]
    },
    {
      "cell_type": "code",
      "metadata": {
        "id": "250bG9PaYdgi",
        "colab_type": "code",
        "outputId": "a0578475-fcea-4186-9ca3-c35655382cb0",
        "colab": {
          "base_uri": "https://localhost:8080/",
          "height": 34
        }
      },
      "source": [
        "# Struge's rule\n",
        "bin_num =  math.ceil(1 + 3.322*math.log2(200))\n",
        "print(\"Bin Size: \", bin_num)"
      ],
      "execution_count": 0,
      "outputs": [
        {
          "output_type": "stream",
          "text": [
            "Bin Size:  27\n"
          ],
          "name": "stdout"
        }
      ]
    },
    {
      "cell_type": "code",
      "metadata": {
        "id": "DAD0H2drdLIy",
        "colab_type": "code",
        "outputId": "96fc41f8-64ad-44ef-b2d7-2b5cfb4cf3d2",
        "colab": {
          "base_uri": "https://localhost:8080/",
          "height": 246
        }
      },
      "source": [
        "width = (data['col1'].max()-data['col1'].min())/bin_num\n",
        "print(\"width of each bin: \", width)\n",
        "\n",
        "bins = [[] for i in range(bin_num+1)]\n",
        "\n",
        "for i in range(200):\n",
        "  bins[math.ceil((data['col1'].iloc[i]-data['col1'].min())/width)].append(data['col1'].iloc[i])\n",
        "for i in range(1, len(bins)):\n",
        "  print(\"Bin \" + str(i) + \":\", \"range:\", data['col1'].min()+width*(i-1), \"-\", data['col1'].min()+width*(i))\n",
        "  print(bins[i])\n",
        "\n",
        "bins[1].append(bins[0][0])"
      ],
      "execution_count": 0,
      "outputs": [
        {
          "output_type": "stream",
          "text": [
            "width of each bin:  73.29629629629629\n"
          ],
          "name": "stdout"
        },
        {
          "output_type": "error",
          "ename": "IndexError",
          "evalue": "ignored",
          "traceback": [
            "\u001b[0;31m---------------------------------------------------------------------------\u001b[0m",
            "\u001b[0;31mIndexError\u001b[0m                                Traceback (most recent call last)",
            "\u001b[0;32m<ipython-input-22-b11711182e25>\u001b[0m in \u001b[0;36m<module>\u001b[0;34m()\u001b[0m\n\u001b[1;32m      5\u001b[0m \u001b[0;34m\u001b[0m\u001b[0m\n\u001b[1;32m      6\u001b[0m \u001b[0;32mfor\u001b[0m \u001b[0mi\u001b[0m \u001b[0;32min\u001b[0m \u001b[0mrange\u001b[0m\u001b[0;34m(\u001b[0m\u001b[0;36m200\u001b[0m\u001b[0;34m)\u001b[0m\u001b[0;34m:\u001b[0m\u001b[0;34m\u001b[0m\u001b[0;34m\u001b[0m\u001b[0m\n\u001b[0;32m----> 7\u001b[0;31m   \u001b[0mbins\u001b[0m\u001b[0;34m[\u001b[0m\u001b[0mmath\u001b[0m\u001b[0;34m.\u001b[0m\u001b[0mceil\u001b[0m\u001b[0;34m(\u001b[0m\u001b[0;34m(\u001b[0m\u001b[0mdata\u001b[0m\u001b[0;34m[\u001b[0m\u001b[0;34m'col1'\u001b[0m\u001b[0;34m]\u001b[0m\u001b[0;34m.\u001b[0m\u001b[0miloc\u001b[0m\u001b[0;34m[\u001b[0m\u001b[0mi\u001b[0m\u001b[0;34m]\u001b[0m\u001b[0;34m-\u001b[0m\u001b[0mdata\u001b[0m\u001b[0;34m[\u001b[0m\u001b[0;34m'col1'\u001b[0m\u001b[0;34m]\u001b[0m\u001b[0;34m.\u001b[0m\u001b[0mmin\u001b[0m\u001b[0;34m(\u001b[0m\u001b[0;34m)\u001b[0m\u001b[0;34m)\u001b[0m\u001b[0;34m/\u001b[0m\u001b[0mwidth\u001b[0m\u001b[0;34m)\u001b[0m\u001b[0;34m]\u001b[0m\u001b[0;34m.\u001b[0m\u001b[0mappend\u001b[0m\u001b[0;34m(\u001b[0m\u001b[0mdata\u001b[0m\u001b[0;34m[\u001b[0m\u001b[0;34m'col1'\u001b[0m\u001b[0;34m]\u001b[0m\u001b[0;34m.\u001b[0m\u001b[0miloc\u001b[0m\u001b[0;34m[\u001b[0m\u001b[0mi\u001b[0m\u001b[0;34m]\u001b[0m\u001b[0;34m)\u001b[0m\u001b[0;34m\u001b[0m\u001b[0;34m\u001b[0m\u001b[0m\n\u001b[0m\u001b[1;32m      8\u001b[0m \u001b[0;32mfor\u001b[0m \u001b[0mi\u001b[0m \u001b[0;32min\u001b[0m \u001b[0mrange\u001b[0m\u001b[0;34m(\u001b[0m\u001b[0;36m1\u001b[0m\u001b[0;34m,\u001b[0m \u001b[0mlen\u001b[0m\u001b[0;34m(\u001b[0m\u001b[0mbins\u001b[0m\u001b[0;34m)\u001b[0m\u001b[0;34m)\u001b[0m\u001b[0;34m:\u001b[0m\u001b[0;34m\u001b[0m\u001b[0;34m\u001b[0m\u001b[0m\n\u001b[1;32m      9\u001b[0m   \u001b[0mprint\u001b[0m\u001b[0;34m(\u001b[0m\u001b[0;34m\"Bin \"\u001b[0m \u001b[0;34m+\u001b[0m \u001b[0mstr\u001b[0m\u001b[0;34m(\u001b[0m\u001b[0mi\u001b[0m\u001b[0;34m)\u001b[0m \u001b[0;34m+\u001b[0m \u001b[0;34m\":\"\u001b[0m\u001b[0;34m,\u001b[0m \u001b[0;34m\"range:\"\u001b[0m\u001b[0;34m,\u001b[0m \u001b[0mdata\u001b[0m\u001b[0;34m[\u001b[0m\u001b[0;34m'col1'\u001b[0m\u001b[0;34m]\u001b[0m\u001b[0;34m.\u001b[0m\u001b[0mmin\u001b[0m\u001b[0;34m(\u001b[0m\u001b[0;34m)\u001b[0m\u001b[0;34m+\u001b[0m\u001b[0mwidth\u001b[0m\u001b[0;34m*\u001b[0m\u001b[0;34m(\u001b[0m\u001b[0mi\u001b[0m\u001b[0;34m-\u001b[0m\u001b[0;36m1\u001b[0m\u001b[0;34m)\u001b[0m\u001b[0;34m,\u001b[0m \u001b[0;34m\"-\"\u001b[0m\u001b[0;34m,\u001b[0m \u001b[0mdata\u001b[0m\u001b[0;34m[\u001b[0m\u001b[0;34m'col1'\u001b[0m\u001b[0;34m]\u001b[0m\u001b[0;34m.\u001b[0m\u001b[0mmin\u001b[0m\u001b[0;34m(\u001b[0m\u001b[0;34m)\u001b[0m\u001b[0;34m+\u001b[0m\u001b[0mwidth\u001b[0m\u001b[0;34m*\u001b[0m\u001b[0;34m(\u001b[0m\u001b[0mi\u001b[0m\u001b[0;34m)\u001b[0m\u001b[0;34m)\u001b[0m\u001b[0;34m\u001b[0m\u001b[0;34m\u001b[0m\u001b[0m\n",
            "\u001b[0;31mIndexError\u001b[0m: list index out of range"
          ]
        }
      ]
    },
    {
      "cell_type": "code",
      "metadata": {
        "id": "mSisGhuTef0d",
        "colab_type": "code",
        "outputId": "c514e024-cb5f-4e35-c76d-0038d5da8238",
        "colab": {
          "base_uri": "https://localhost:8080/",
          "height": 336
        }
      },
      "source": [
        "# Data with Noise\n",
        "import matplotlib.pyplot as plt\n",
        "plt.hist(data['col1'],facecolor=\"red\")"
      ],
      "execution_count": 0,
      "outputs": [
        {
          "output_type": "execute_result",
          "data": {
            "text/plain": [
              "(array([19., 23., 17., 24., 21., 18., 24., 14., 13., 27.]),\n",
              " array([   6. ,  203.9,  401.8,  599.7,  797.6,  995.5, 1193.4, 1391.3,\n",
              "        1589.2, 1787.1, 1985. ]),\n",
              " <a list of 10 Patch objects>)"
            ]
          },
          "metadata": {
            "tags": []
          },
          "execution_count": 23
        },
        {
          "output_type": "display_data",
          "data": {
            "image/png": "[encoded data removed]",
            "text/plain": [
              "<Figure size 432x288 with 1 Axes>"
            ]
          },
          "metadata": {
            "tags": []
          }
        }
      ]
    },
    {
      "cell_type": "code",
      "metadata": {
        "id": "1WfBE-6bNaaK",
        "colab_type": "code",
        "outputId": "f7a8dc1f-668f-47d6-aaf1-2e123200e69a",
        "colab": {
          "base_uri": "https://localhost:8080/",
          "height": 336
        }
      },
      "source": [
        "smooth_data = []\n",
        "for i in bins:\n",
        "  for j in range(len(i)):\n",
        "    if abs(i[-1]-i[j]) < abs(i[0]-i[j]):\n",
        "      smooth_data.append(i[-1])\n",
        "    else:\n",
        "      smooth_data.append(i[0])\n",
        "plt.hist(smooth_data,facecolor=\"green\")"
      ],
      "execution_count": 0,
      "outputs": [
        {
          "output_type": "execute_result",
          "data": {
            "text/plain": [
              "(array([6., 5., 5., 5., 5., 2., 9., 2., 2., 5.]),\n",
              " array([ 151. ,  330.9,  510.8,  690.7,  870.6, 1050.5, 1230.4, 1410.3,\n",
              "        1590.2, 1770.1, 1950. ]),\n",
              " <a list of 10 Patch objects>)"
            ]
          },
          "metadata": {
            "tags": []
          },
          "execution_count": 24
        },
        {
          "output_type": "display_data",
          "data": {
            "image/png": "[encoded data removed]",
            "text/plain": [
              "<Figure size 432x288 with 1 Axes>"
            ]
          },
          "metadata": {
            "tags": []
          }
        }
      ]
    },
    {
      "cell_type": "code",
      "metadata": {
        "id": "wPFkctLNPHjm",
        "colab_type": "code",
        "outputId": "99474eed-3afe-4fca-fe89-ff3967d01b2e",
        "colab": {
          "base_uri": "https://localhost:8080/",
          "height": 34
        }
      },
      "source": [
        "data['col1'].std()"
      ],
      "execution_count": 0,
      "outputs": [
        {
          "output_type": "execute_result",
          "data": {
            "text/plain": [
              "586.3293566523529"
            ]
          },
          "metadata": {
            "tags": []
          },
          "execution_count": 25
        }
      ]
    },
    {
      "cell_type": "markdown",
      "metadata": {
        "id": "Ar06ndn8XF0A",
        "colab_type": "text"
      },
      "source": [
        "# **Equal Depth**"
      ]
    },
    {
      "cell_type": "code",
      "metadata": {
        "id": "EFYjrSGKXNpy",
        "colab_type": "code",
        "colab": {}
      },
      "source": [
        "data_array = [data['col1'].iloc[i] for i in range(200)]\n",
        "data_array.sort()\n",
        "bin_num = 10\n",
        "width = N//bin_num\n",
        "bins = []\n",
        "i = 0\n",
        "while i < 200:\n",
        "  bins.append(data_array[i:i+width])\n",
        "  i += width\n"
      ],
      "execution_count": 0,
      "outputs": []
    },
    {
      "cell_type": "code",
      "metadata": {
        "id": "kyvV--vnY9a5",
        "colab_type": "code",
        "outputId": "b0315d52-db33-4d3a-a2b7-c85002c0b9db",
        "colab": {
          "base_uri": "https://localhost:8080/",
          "height": 306
        }
      },
      "source": [
        "# Data with noise\n",
        "plt.hist(data_array,facecolor=\"purple\")\n",
        "print(bins)"
      ],
      "execution_count": 0,
      "outputs": [
        {
          "output_type": "stream",
          "text": [
            "[[6, 14, 37, 59, 60, 70, 72, 80, 88, 92, 99, 129, 151, 152, 161, 162, 174, 180, 195, 216], [226, 228, 229, 231, 236, 248, 255, 266, 269, 271, 282, 290, 293, 303, 305, 320, 322, 373, 390, 391], [394, 399, 411, 418, 425, 431, 443, 446, 450, 457, 464, 476, 483, 508, 523, 584, 587, 588, 595, 605], [606, 608, 620, 624, 648, 660, 668, 672, 675, 684, 696, 731, 734, 740, 746, 748, 756, 763, 764, 765], [768, 778, 797, 800, 814, 816, 818, 857, 861, 880, 881, 910, 923, 925, 928, 940, 943, 945, 951, 956], [973, 984, 989, 992, 1017, 1030, 1040, 1046, 1050, 1074, 1080, 1105, 1108, 1112, 1115, 1126, 1137, 1160, 1166, 1174], [1187, 1191, 1204, 1214, 1215, 1236, 1237, 1254, 1260, 1266, 1277, 1292, 1305, 1310, 1312, 1321, 1327, 1336, 1337, 1341], [1343, 1360, 1368, 1380, 1388, 1391, 1428, 1431, 1448, 1472, 1489, 1498, 1532, 1534, 1540, 1546, 1549, 1567, 1579, 1584], [1590, 1592, 1596, 1636, 1644, 1704, 1707, 1745, 1750, 1763, 1770, 1782, 1785, 1793, 1803, 1817, 1828, 1830, 1846, 1855], [1868, 1869, 1878, 1883, 1884, 1899, 1901, 1914, 1915, 1921, 1925, 1934, 1945, 1950, 1951, 1958, 1967, 1969, 1972, 1985]]\n"
          ],
          "name": "stdout"
        },
        {
          "output_type": "display_data",
          "data": {
            "image/png": "[encoded data removed]",
            "text/plain": [
              "<Figure size 432x288 with 1 Axes>"
            ]
          },
          "metadata": {
            "tags": []
          }
        }
      ]
    },
    {
      "cell_type": "code",
      "metadata": {
        "id": "JFhNQ9SOh-hc",
        "colab_type": "code",
        "outputId": "ec11d8c2-0fab-4991-db44-44428be9a25c",
        "colab": {
          "base_uri": "https://localhost:8080/",
          "height": 319
        }
      },
      "source": [
        "labels = {}\n",
        "label = 0\n",
        "equal_depth = []\n",
        "for i in bins:\n",
        "  labels[label] = (i[0], i[-1])\n",
        "  equal_depth += [label for i in range(len(i))]\n",
        "  label += 1\n",
        "plt.hist(equal_depth)"
      ],
      "execution_count": 0,
      "outputs": [
        {
          "output_type": "execute_result",
          "data": {
            "text/plain": [
              "(array([20., 20., 20., 20., 20., 20., 20., 20., 20., 20.]),\n",
              " array([0. , 0.9, 1.8, 2.7, 3.6, 4.5, 5.4, 6.3, 7.2, 8.1, 9. ]),\n",
              " <a list of 10 Patch objects>)"
            ]
          },
          "metadata": {
            "tags": []
          },
          "execution_count": 28
        },
        {
          "output_type": "display_data",
          "data": {
            "image/png": "[encoded data removed]",
            "text/plain": [
              "<Figure size 432x288 with 1 Axes>"
            ]
          },
          "metadata": {
            "tags": []
          }
        }
      ]
    },
    {
      "cell_type": "code",
      "metadata": {
        "id": "rs3Sc0-VXe7f",
        "colab_type": "code",
        "outputId": "591632e9-5acf-42e8-f5d4-202b473a9e92",
        "colab": {
          "base_uri": "https://localhost:8080/",
          "height": 336
        }
      },
      "source": [
        "# smoothened Data\n",
        "smooth_data = []\n",
        "for i in bins:\n",
        "  mean = sum(i)/len(i)\n",
        "  for j in range(len(i)):\n",
        "    smooth_data.append(mean)\n",
        "plt.hist(smooth_data)"
      ],
      "execution_count": 0,
      "outputs": [
        {
          "output_type": "execute_result",
          "data": {
            "text/plain": [
              "(array([40.,  0., 20., 20., 20., 20., 20., 20., 20., 20.]),\n",
              " array([ 109.85 ,  291.305,  472.76 ,  654.215,  835.67 , 1017.125,\n",
              "        1198.58 , 1380.035, 1561.49 , 1742.945, 1924.4  ]),\n",
              " <a list of 10 Patch objects>)"
            ]
          },
          "metadata": {
            "tags": []
          },
          "execution_count": 29
        },
        {
          "output_type": "display_data",
          "data": {
            "image/png": "[encoded data removed]",
            "text/plain": [
              "<Figure size 432x288 with 1 Axes>"
            ]
          },
          "metadata": {
            "tags": []
          }
        }
      ]
    },
    {
      "cell_type": "markdown",
      "metadata": {
        "id": "KvYK_ZvlajIy",
        "colab_type": "text"
      },
      "source": [
        "# **Part B**"
      ]
    },
    {
      "cell_type": "code",
      "metadata": {
        "id": "bHsQIpS2Y5TO",
        "colab_type": "code",
        "outputId": "75febabf-70c9-40d9-ce3f-5f84c08461ab",
        "colab": {
          "base_uri": "https://localhost:8080/",
          "height": 50
        }
      },
      "source": [
        "# without label\n",
        "data = pd.DataFrame({\"col1\": [random.randint(1, 2000) for i in range(200)]})\n",
        "data.std()"
      ],
      "execution_count": 0,
      "outputs": [
        {
          "output_type": "execute_result",
          "data": {
            "text/plain": [
              "col1    561.713743\n",
              "dtype: float64"
            ]
          },
          "metadata": {
            "tags": []
          },
          "execution_count": 30
        }
      ]
    },
    {
      "cell_type": "code",
      "metadata": {
        "id": "VLBP8ogWasel",
        "colab_type": "code",
        "outputId": "802110d6-47d8-4855-e675-6c3faf9400ff",
        "colab": {
          "base_uri": "https://localhost:8080/",
          "height": 195
        }
      },
      "source": [
        "# distributing random labels\n",
        "\n",
        "a = [i for i in range(200)]\n",
        "num_label_A = int(0.6*200)\n",
        "num_label_B = int(0.4*200)\n",
        "A_label = [0 for i in range(num_label_A)]\n",
        "B_label = [1 for i in range(num_label_B)]\n",
        "labels = A_label + B_label\n",
        "\n",
        "random.shuffle(labels)\n",
        "data['col2'] = [labels[i] for i in range(N)]\n",
        "data.head()"
      ],
      "execution_count": 0,
      "outputs": [
        {
          "output_type": "execute_result",
          "data": {
            "text/html": [
              "<div>\n",
              "<style scoped>\n",
              "    .dataframe tbody tr th:only-of-type {\n",
              "        vertical-align: middle;\n",
              "    }\n",
              "\n",
              "    .dataframe tbody tr th {\n",
              "        vertical-align: top;\n",
              "    }\n",
              "\n",
              "    .dataframe thead th {\n",
              "        text-align: right;\n",
              "    }\n",
              "</style>\n",
              "<table border=\"1\" class=\"dataframe\">\n",
              "  <thead>\n",
              "    <tr style=\"text-align: right;\">\n",
              "      <th></th>\n",
              "      <th>col1</th>\n",
              "      <th>col2</th>\n",
              "    </tr>\n",
              "  </thead>\n",
              "  <tbody>\n",
              "    <tr>\n",
              "      <th>0</th>\n",
              "      <td>147</td>\n",
              "      <td>0</td>\n",
              "    </tr>\n",
              "    <tr>\n",
              "      <th>1</th>\n",
              "      <td>726</td>\n",
              "      <td>1</td>\n",
              "    </tr>\n",
              "    <tr>\n",
              "      <th>2</th>\n",
              "      <td>1227</td>\n",
              "      <td>0</td>\n",
              "    </tr>\n",
              "    <tr>\n",
              "      <th>3</th>\n",
              "      <td>144</td>\n",
              "      <td>0</td>\n",
              "    </tr>\n",
              "    <tr>\n",
              "      <th>4</th>\n",
              "      <td>420</td>\n",
              "      <td>0</td>\n",
              "    </tr>\n",
              "  </tbody>\n",
              "</table>\n",
              "</div>"
            ],
            "text/plain": [
              "   col1  col2\n",
              "0   147     0\n",
              "1   726     1\n",
              "2  1227     0\n",
              "3   144     0\n",
              "4   420     0"
            ]
          },
          "metadata": {
            "tags": []
          },
          "execution_count": 33
        }
      ]
    },
    {
      "cell_type": "code",
      "metadata": {
        "id": "J-3X9ZVVizEm",
        "colab_type": "code",
        "outputId": "f54db10c-e718-4053-a547-e0de42de240a",
        "colab": {
          "base_uri": "https://localhost:8080/",
          "height": 136
        }
      },
      "source": [
        "data.groupby('col2').count() # verifying count"
      ],
      "execution_count": 0,
      "outputs": [
        {
          "output_type": "execute_result",
          "data": {
            "text/html": [
              "<div>\n",
              "<style scoped>\n",
              "    .dataframe tbody tr th:only-of-type {\n",
              "        vertical-align: middle;\n",
              "    }\n",
              "\n",
              "    .dataframe tbody tr th {\n",
              "        vertical-align: top;\n",
              "    }\n",
              "\n",
              "    .dataframe thead th {\n",
              "        text-align: right;\n",
              "    }\n",
              "</style>\n",
              "<table border=\"1\" class=\"dataframe\">\n",
              "  <thead>\n",
              "    <tr style=\"text-align: right;\">\n",
              "      <th></th>\n",
              "      <th>col1</th>\n",
              "    </tr>\n",
              "    <tr>\n",
              "      <th>col2</th>\n",
              "      <th></th>\n",
              "    </tr>\n",
              "  </thead>\n",
              "  <tbody>\n",
              "    <tr>\n",
              "      <th>0</th>\n",
              "      <td>120</td>\n",
              "    </tr>\n",
              "    <tr>\n",
              "      <th>1</th>\n",
              "      <td>80</td>\n",
              "    </tr>\n",
              "  </tbody>\n",
              "</table>\n",
              "</div>"
            ],
            "text/plain": [
              "      col1\n",
              "col2      \n",
              "0      120\n",
              "1       80"
            ]
          },
          "metadata": {
            "tags": []
          },
          "execution_count": 32
        }
      ]
    },
    {
      "cell_type": "code",
      "metadata": {
        "id": "h0DQr-4gatzH",
        "colab_type": "code",
        "outputId": "d1ddb857-6563-4fbd-bb28-cfec3a8cf25c",
        "colab": {
          "base_uri": "https://localhost:8080/",
          "height": 67
        }
      },
      "source": [
        "# Picking random 50% without replacement\n",
        "a = [i for i in range(200)]\n",
        "random.shuffle(a)\n",
        "sample = []\n",
        "for i in range(int(N*0.5)):\n",
        "  sample.append(data.iloc[a[i]])\n",
        "test = pd.DataFrame(sample)\n",
        "test.reset_index(drop=True, inplace=True)\n",
        "test.head()\n",
        "print(\"STD for sampling 50% without replacement:\", test.std())"
      ],
      "execution_count": 0,
      "outputs": [
        {
          "output_type": "stream",
          "text": [
            "STD for sampling 50% without replacement: col1    537.335119\n",
            "col2      0.490207\n",
            "dtype: float64\n"
          ],
          "name": "stdout"
        }
      ]
    },
    {
      "cell_type": "code",
      "metadata": {
        "id": "ahm9emfHb8SG",
        "colab_type": "code",
        "outputId": "6203ab2c-9dd9-4f2d-e72d-6f23066a8bf6",
        "colab": {
          "base_uri": "https://localhost:8080/",
          "height": 67
        }
      },
      "source": [
        "# Stratified Sampling\n",
        "\n",
        "A_label_index = []\n",
        "B_label_index = []\n",
        "\n",
        "for i in range(N):\n",
        "  if data['col2'].iloc[i] == 0:\n",
        "    A_label_index.append(i)\n",
        "  else:\n",
        "    B_label_index.append(i)\n",
        "\n",
        "random.shuffle(A_label_index)\n",
        "random.shuffle(B_label_index)\n",
        "\n",
        "A_List = []\n",
        "B_List = []\n",
        "\n",
        "\n",
        "num_A_label = int(N*0.5*0.6)\n",
        "num_B_label = int(N*0.5*0.4)\n",
        "\n",
        "sample = []\n",
        "for i in range(num_A_label):\n",
        "  sample.append(data.iloc[A_label_index[i]])\n",
        "for i in range(num_B_label):\n",
        "  sample.append(data.iloc[B_label_index[i]])\n",
        "\n",
        "random.shuffle(sample)\n",
        "stratified = pd.DataFrame(sample)\n",
        "stratified.reset_index(drop=True, inplace=True)\n",
        "stratified.head()\n",
        "print(\"STD for stratified sampling without replacement:\", stratified.std())"
      ],
      "execution_count": 0,
      "outputs": [
        {
          "output_type": "stream",
          "text": [
            "STD for stratified sampling without replacement: col1    520.196270\n",
            "col2      0.492366\n",
            "dtype: float64\n"
          ],
          "name": "stdout"
        }
      ]
    },
    {
      "cell_type": "code",
      "metadata": {
        "id": "VPwTUUBbe7no",
        "colab_type": "code",
        "outputId": "6268ac6d-c1b7-4726-91a0-3021f6712778",
        "colab": {
          "base_uri": "https://localhost:8080/",
          "height": 34
        }
      },
      "source": [
        "data.shape"
      ],
      "execution_count": 0,
      "outputs": [
        {
          "output_type": "execute_result",
          "data": {
            "text/plain": [
              "(200, 2)"
            ]
          },
          "metadata": {
            "tags": []
          },
          "execution_count": 40
        }
      ]
    },
    {
      "cell_type": "code",
      "metadata": {
        "id": "FVaOqZLLff7H",
        "colab_type": "code",
        "outputId": "75d7c7d2-027a-4dbf-8c50-fe972b2fee49",
        "colab": {
          "base_uri": "https://localhost:8080/",
          "height": 67
        }
      },
      "source": [
        "# Picking random 50% with replacement\n",
        "a = [random.randint(0, 99) for i in range(200)]\n",
        "sample = []\n",
        "for i in range(int(N*0.5)):\n",
        "  sample.append(data.iloc[a[i]])\n",
        "test = pd.DataFrame(sample)\n",
        "test.reset_index(drop=True, inplace=True)\n",
        "test.head()\n",
        "print(\"STD for sampling 50% with replacement:\", stratified.std())"
      ],
      "execution_count": 0,
      "outputs": [
        {
          "output_type": "stream",
          "text": [
            "STD for sampling 50% with replacement: col1    520.196270\n",
            "col2      0.492366\n",
            "dtype: float64\n"
          ],
          "name": "stdout"
        }
      ]
    },
    {
      "cell_type": "code",
      "metadata": {
        "id": "88hpEUUGuGJi",
        "colab_type": "code",
        "outputId": "7157fa3f-6a05-4c73-d795-cc580ca59bfe",
        "colab": {
          "base_uri": "https://localhost:8080/",
          "height": 67
        }
      },
      "source": [
        "# stratified sampling\n",
        "sample = []\n",
        "for i in range(num_A_label):\n",
        "  sample.append(data.iloc[A_label_index[random.randint(0, len(A_label_index)-1)]])\n",
        "for i in range(num_B_label):\n",
        "  sample.append(data.iloc[B_label_index[random.randint(0, len(B_label_index)-1)]])\n",
        "random.shuffle(sample)\n",
        "stratified = pd.DataFrame(sample)\n",
        "stratified.reset_index(drop=True, inplace=True)\n",
        "stratified.head()\n",
        "print(\"STD for stratified sampling with replacement:\", stratified.std())"
      ],
      "execution_count": 0,
      "outputs": [
        {
          "output_type": "stream",
          "text": [
            "STD for stratified sampling with replacement: col1    498.125503\n",
            "col2      0.492366\n",
            "dtype: float64\n"
          ],
          "name": "stdout"
        }
      ]
    },
    {
      "cell_type": "code",
      "metadata": {
        "id": "HiMq7w9Au2Rx",
        "colab_type": "code",
        "colab": {}
      },
      "source": [
        ""
      ],
      "execution_count": 0,
      "outputs": []
    }
  ]
}