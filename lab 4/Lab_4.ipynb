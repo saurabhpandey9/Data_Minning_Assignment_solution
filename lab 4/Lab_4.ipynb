{
  "nbformat": 4,
  "nbformat_minor": 0,
  "metadata": {
    "kernelspec": {
      "display_name": "Python 3",
      "language": "python",
      "name": "python3"
    },
    "language_info": {
      "codemirror_mode": {
        "name": "ipython",
        "version": 3
      },
      "file_extension": ".py",
      "mimetype": "text/x-python",
      "name": "python",
      "nbconvert_exporter": "python",
      "pygments_lexer": "ipython3",
      "version": "3.7.3"
    },
    "colab": {
      "name": "Lab-4.ipynb",
      "provenance": [],
      "collapsed_sections": [
        "m5ANQnioOEG8"
      ],
      "toc_visible": true
    }
  },
  "cells": [
    {
      "cell_type": "code",
      "metadata": {
        "id": "yKpQyzobOEF2",
        "colab_type": "code",
        "colab": {}
      },
      "source": [
        "import pandas as pd\n",
        "import numpy as np\n",
        "import matplotlib.pyplot as plt\n",
        "from sklearn import datasets, linear_model\n",
        "from sklearn.model_selection import train_test_split\n",
        "import random\n",
        "import statistics"
      ],
      "execution_count": 0,
      "outputs": []
    },
    {
      "cell_type": "code",
      "metadata": {
        "id": "_iLyTB3AOEF5",
        "colab_type": "code",
        "colab": {}
      },
      "source": [
        "df = pd.read_csv(\"insurance.csv\")"
      ],
      "execution_count": 0,
      "outputs": []
    },
    {
      "cell_type": "code",
      "metadata": {
        "id": "ug9WHsBrOEF8",
        "colab_type": "code",
        "outputId": "3da42d9e-59e4-43f5-da15-6560bac44945",
        "colab": {
          "base_uri": "https://localhost:8080/",
          "height": 1000
        }
      },
      "source": [
        "df"
      ],
      "execution_count": 0,
      "outputs": [
        {
          "output_type": "execute_result",
          "data": {
            "text/html": [
              "<div>\n",
              "<style scoped>\n",
              "    .dataframe tbody tr th:only-of-type {\n",
              "        vertical-align: middle;\n",
              "    }\n",
              "\n",
              "    .dataframe tbody tr th {\n",
              "        vertical-align: top;\n",
              "    }\n",
              "\n",
              "    .dataframe thead th {\n",
              "        text-align: right;\n",
              "    }\n",
              "</style>\n",
              "<table border=\"1\" class=\"dataframe\">\n",
              "  <thead>\n",
              "    <tr style=\"text-align: right;\">\n",
              "      <th></th>\n",
              "      <th>age</th>\n",
              "      <th>sex</th>\n",
              "      <th>bmi</th>\n",
              "      <th>children</th>\n",
              "      <th>smoker</th>\n",
              "      <th>region</th>\n",
              "      <th>expenses</th>\n",
              "    </tr>\n",
              "  </thead>\n",
              "  <tbody>\n",
              "    <tr>\n",
              "      <th>0</th>\n",
              "      <td>19</td>\n",
              "      <td>female</td>\n",
              "      <td>27.9</td>\n",
              "      <td>0</td>\n",
              "      <td>yes</td>\n",
              "      <td>southwest</td>\n",
              "      <td>16884.92</td>\n",
              "    </tr>\n",
              "    <tr>\n",
              "      <th>1</th>\n",
              "      <td>18</td>\n",
              "      <td>male</td>\n",
              "      <td>33.8</td>\n",
              "      <td>1</td>\n",
              "      <td>no</td>\n",
              "      <td>southeast</td>\n",
              "      <td>1725.55</td>\n",
              "    </tr>\n",
              "    <tr>\n",
              "      <th>2</th>\n",
              "      <td>28</td>\n",
              "      <td>male</td>\n",
              "      <td>33.0</td>\n",
              "      <td>3</td>\n",
              "      <td>no</td>\n",
              "      <td>southeast</td>\n",
              "      <td>4449.46</td>\n",
              "    </tr>\n",
              "    <tr>\n",
              "      <th>3</th>\n",
              "      <td>33</td>\n",
              "      <td>male</td>\n",
              "      <td>22.7</td>\n",
              "      <td>0</td>\n",
              "      <td>no</td>\n",
              "      <td>northwest</td>\n",
              "      <td>21984.47</td>\n",
              "    </tr>\n",
              "    <tr>\n",
              "      <th>4</th>\n",
              "      <td>32</td>\n",
              "      <td>male</td>\n",
              "      <td>28.9</td>\n",
              "      <td>0</td>\n",
              "      <td>no</td>\n",
              "      <td>northwest</td>\n",
              "      <td>3866.86</td>\n",
              "    </tr>\n",
              "    <tr>\n",
              "      <th>5</th>\n",
              "      <td>31</td>\n",
              "      <td>female</td>\n",
              "      <td>25.7</td>\n",
              "      <td>0</td>\n",
              "      <td>no</td>\n",
              "      <td>southeast</td>\n",
              "      <td>3756.62</td>\n",
              "    </tr>\n",
              "    <tr>\n",
              "      <th>6</th>\n",
              "      <td>46</td>\n",
              "      <td>female</td>\n",
              "      <td>33.4</td>\n",
              "      <td>1</td>\n",
              "      <td>no</td>\n",
              "      <td>southeast</td>\n",
              "      <td>8240.59</td>\n",
              "    </tr>\n",
              "    <tr>\n",
              "      <th>7</th>\n",
              "      <td>37</td>\n",
              "      <td>female</td>\n",
              "      <td>27.7</td>\n",
              "      <td>3</td>\n",
              "      <td>no</td>\n",
              "      <td>northwest</td>\n",
              "      <td>7281.51</td>\n",
              "    </tr>\n",
              "    <tr>\n",
              "      <th>8</th>\n",
              "      <td>37</td>\n",
              "      <td>male</td>\n",
              "      <td>29.8</td>\n",
              "      <td>2</td>\n",
              "      <td>no</td>\n",
              "      <td>northeast</td>\n",
              "      <td>6406.41</td>\n",
              "    </tr>\n",
              "    <tr>\n",
              "      <th>9</th>\n",
              "      <td>60</td>\n",
              "      <td>female</td>\n",
              "      <td>25.8</td>\n",
              "      <td>0</td>\n",
              "      <td>no</td>\n",
              "      <td>northwest</td>\n",
              "      <td>28923.14</td>\n",
              "    </tr>\n",
              "    <tr>\n",
              "      <th>10</th>\n",
              "      <td>25</td>\n",
              "      <td>male</td>\n",
              "      <td>26.2</td>\n",
              "      <td>0</td>\n",
              "      <td>no</td>\n",
              "      <td>northeast</td>\n",
              "      <td>2721.32</td>\n",
              "    </tr>\n",
              "    <tr>\n",
              "      <th>11</th>\n",
              "      <td>62</td>\n",
              "      <td>female</td>\n",
              "      <td>26.3</td>\n",
              "      <td>0</td>\n",
              "      <td>yes</td>\n",
              "      <td>southeast</td>\n",
              "      <td>27808.73</td>\n",
              "    </tr>\n",
              "    <tr>\n",
              "      <th>12</th>\n",
              "      <td>23</td>\n",
              "      <td>male</td>\n",
              "      <td>34.4</td>\n",
              "      <td>0</td>\n",
              "      <td>no</td>\n",
              "      <td>southwest</td>\n",
              "      <td>1826.84</td>\n",
              "    </tr>\n",
              "    <tr>\n",
              "      <th>13</th>\n",
              "      <td>56</td>\n",
              "      <td>female</td>\n",
              "      <td>39.8</td>\n",
              "      <td>0</td>\n",
              "      <td>no</td>\n",
              "      <td>southeast</td>\n",
              "      <td>11090.72</td>\n",
              "    </tr>\n",
              "    <tr>\n",
              "      <th>14</th>\n",
              "      <td>27</td>\n",
              "      <td>male</td>\n",
              "      <td>42.1</td>\n",
              "      <td>0</td>\n",
              "      <td>yes</td>\n",
              "      <td>southeast</td>\n",
              "      <td>39611.76</td>\n",
              "    </tr>\n",
              "    <tr>\n",
              "      <th>15</th>\n",
              "      <td>19</td>\n",
              "      <td>male</td>\n",
              "      <td>24.6</td>\n",
              "      <td>1</td>\n",
              "      <td>no</td>\n",
              "      <td>southwest</td>\n",
              "      <td>1837.24</td>\n",
              "    </tr>\n",
              "    <tr>\n",
              "      <th>16</th>\n",
              "      <td>52</td>\n",
              "      <td>female</td>\n",
              "      <td>30.8</td>\n",
              "      <td>1</td>\n",
              "      <td>no</td>\n",
              "      <td>northeast</td>\n",
              "      <td>10797.34</td>\n",
              "    </tr>\n",
              "    <tr>\n",
              "      <th>17</th>\n",
              "      <td>23</td>\n",
              "      <td>male</td>\n",
              "      <td>23.8</td>\n",
              "      <td>0</td>\n",
              "      <td>no</td>\n",
              "      <td>northeast</td>\n",
              "      <td>2395.17</td>\n",
              "    </tr>\n",
              "    <tr>\n",
              "      <th>18</th>\n",
              "      <td>56</td>\n",
              "      <td>male</td>\n",
              "      <td>40.3</td>\n",
              "      <td>0</td>\n",
              "      <td>no</td>\n",
              "      <td>southwest</td>\n",
              "      <td>10602.39</td>\n",
              "    </tr>\n",
              "    <tr>\n",
              "      <th>19</th>\n",
              "      <td>30</td>\n",
              "      <td>male</td>\n",
              "      <td>35.3</td>\n",
              "      <td>0</td>\n",
              "      <td>yes</td>\n",
              "      <td>southwest</td>\n",
              "      <td>36837.47</td>\n",
              "    </tr>\n",
              "    <tr>\n",
              "      <th>20</th>\n",
              "      <td>60</td>\n",
              "      <td>female</td>\n",
              "      <td>36.0</td>\n",
              "      <td>0</td>\n",
              "      <td>no</td>\n",
              "      <td>northeast</td>\n",
              "      <td>13228.85</td>\n",
              "    </tr>\n",
              "    <tr>\n",
              "      <th>21</th>\n",
              "      <td>30</td>\n",
              "      <td>female</td>\n",
              "      <td>32.4</td>\n",
              "      <td>1</td>\n",
              "      <td>no</td>\n",
              "      <td>southwest</td>\n",
              "      <td>4149.74</td>\n",
              "    </tr>\n",
              "    <tr>\n",
              "      <th>22</th>\n",
              "      <td>18</td>\n",
              "      <td>male</td>\n",
              "      <td>34.1</td>\n",
              "      <td>0</td>\n",
              "      <td>no</td>\n",
              "      <td>southeast</td>\n",
              "      <td>1137.01</td>\n",
              "    </tr>\n",
              "    <tr>\n",
              "      <th>23</th>\n",
              "      <td>34</td>\n",
              "      <td>female</td>\n",
              "      <td>31.9</td>\n",
              "      <td>1</td>\n",
              "      <td>yes</td>\n",
              "      <td>northeast</td>\n",
              "      <td>37701.88</td>\n",
              "    </tr>\n",
              "    <tr>\n",
              "      <th>24</th>\n",
              "      <td>37</td>\n",
              "      <td>male</td>\n",
              "      <td>28.0</td>\n",
              "      <td>2</td>\n",
              "      <td>no</td>\n",
              "      <td>northwest</td>\n",
              "      <td>6203.90</td>\n",
              "    </tr>\n",
              "    <tr>\n",
              "      <th>25</th>\n",
              "      <td>59</td>\n",
              "      <td>female</td>\n",
              "      <td>27.7</td>\n",
              "      <td>3</td>\n",
              "      <td>no</td>\n",
              "      <td>southeast</td>\n",
              "      <td>14001.13</td>\n",
              "    </tr>\n",
              "    <tr>\n",
              "      <th>26</th>\n",
              "      <td>63</td>\n",
              "      <td>female</td>\n",
              "      <td>23.1</td>\n",
              "      <td>0</td>\n",
              "      <td>no</td>\n",
              "      <td>northeast</td>\n",
              "      <td>14451.84</td>\n",
              "    </tr>\n",
              "    <tr>\n",
              "      <th>27</th>\n",
              "      <td>55</td>\n",
              "      <td>female</td>\n",
              "      <td>32.8</td>\n",
              "      <td>2</td>\n",
              "      <td>no</td>\n",
              "      <td>northwest</td>\n",
              "      <td>12268.63</td>\n",
              "    </tr>\n",
              "    <tr>\n",
              "      <th>28</th>\n",
              "      <td>23</td>\n",
              "      <td>male</td>\n",
              "      <td>17.4</td>\n",
              "      <td>1</td>\n",
              "      <td>no</td>\n",
              "      <td>northwest</td>\n",
              "      <td>2775.19</td>\n",
              "    </tr>\n",
              "    <tr>\n",
              "      <th>29</th>\n",
              "      <td>31</td>\n",
              "      <td>male</td>\n",
              "      <td>36.3</td>\n",
              "      <td>2</td>\n",
              "      <td>yes</td>\n",
              "      <td>southwest</td>\n",
              "      <td>38711.00</td>\n",
              "    </tr>\n",
              "    <tr>\n",
              "      <th>...</th>\n",
              "      <td>...</td>\n",
              "      <td>...</td>\n",
              "      <td>...</td>\n",
              "      <td>...</td>\n",
              "      <td>...</td>\n",
              "      <td>...</td>\n",
              "      <td>...</td>\n",
              "    </tr>\n",
              "    <tr>\n",
              "      <th>1308</th>\n",
              "      <td>25</td>\n",
              "      <td>female</td>\n",
              "      <td>30.2</td>\n",
              "      <td>0</td>\n",
              "      <td>yes</td>\n",
              "      <td>southwest</td>\n",
              "      <td>33900.65</td>\n",
              "    </tr>\n",
              "    <tr>\n",
              "      <th>1309</th>\n",
              "      <td>41</td>\n",
              "      <td>male</td>\n",
              "      <td>32.2</td>\n",
              "      <td>2</td>\n",
              "      <td>no</td>\n",
              "      <td>southwest</td>\n",
              "      <td>6875.96</td>\n",
              "    </tr>\n",
              "    <tr>\n",
              "      <th>1310</th>\n",
              "      <td>42</td>\n",
              "      <td>male</td>\n",
              "      <td>26.3</td>\n",
              "      <td>1</td>\n",
              "      <td>no</td>\n",
              "      <td>northwest</td>\n",
              "      <td>6940.91</td>\n",
              "    </tr>\n",
              "    <tr>\n",
              "      <th>1311</th>\n",
              "      <td>33</td>\n",
              "      <td>female</td>\n",
              "      <td>26.7</td>\n",
              "      <td>0</td>\n",
              "      <td>no</td>\n",
              "      <td>northwest</td>\n",
              "      <td>4571.41</td>\n",
              "    </tr>\n",
              "    <tr>\n",
              "      <th>1312</th>\n",
              "      <td>34</td>\n",
              "      <td>male</td>\n",
              "      <td>42.9</td>\n",
              "      <td>1</td>\n",
              "      <td>no</td>\n",
              "      <td>southwest</td>\n",
              "      <td>4536.26</td>\n",
              "    </tr>\n",
              "    <tr>\n",
              "      <th>1313</th>\n",
              "      <td>19</td>\n",
              "      <td>female</td>\n",
              "      <td>34.7</td>\n",
              "      <td>2</td>\n",
              "      <td>yes</td>\n",
              "      <td>southwest</td>\n",
              "      <td>36397.58</td>\n",
              "    </tr>\n",
              "    <tr>\n",
              "      <th>1314</th>\n",
              "      <td>30</td>\n",
              "      <td>female</td>\n",
              "      <td>23.7</td>\n",
              "      <td>3</td>\n",
              "      <td>yes</td>\n",
              "      <td>northwest</td>\n",
              "      <td>18765.88</td>\n",
              "    </tr>\n",
              "    <tr>\n",
              "      <th>1315</th>\n",
              "      <td>18</td>\n",
              "      <td>male</td>\n",
              "      <td>28.3</td>\n",
              "      <td>1</td>\n",
              "      <td>no</td>\n",
              "      <td>northeast</td>\n",
              "      <td>11272.33</td>\n",
              "    </tr>\n",
              "    <tr>\n",
              "      <th>1316</th>\n",
              "      <td>19</td>\n",
              "      <td>female</td>\n",
              "      <td>20.6</td>\n",
              "      <td>0</td>\n",
              "      <td>no</td>\n",
              "      <td>southwest</td>\n",
              "      <td>1731.68</td>\n",
              "    </tr>\n",
              "    <tr>\n",
              "      <th>1317</th>\n",
              "      <td>18</td>\n",
              "      <td>male</td>\n",
              "      <td>53.1</td>\n",
              "      <td>0</td>\n",
              "      <td>no</td>\n",
              "      <td>southeast</td>\n",
              "      <td>1163.46</td>\n",
              "    </tr>\n",
              "    <tr>\n",
              "      <th>1318</th>\n",
              "      <td>35</td>\n",
              "      <td>male</td>\n",
              "      <td>39.7</td>\n",
              "      <td>4</td>\n",
              "      <td>no</td>\n",
              "      <td>northeast</td>\n",
              "      <td>19496.72</td>\n",
              "    </tr>\n",
              "    <tr>\n",
              "      <th>1319</th>\n",
              "      <td>39</td>\n",
              "      <td>female</td>\n",
              "      <td>26.3</td>\n",
              "      <td>2</td>\n",
              "      <td>no</td>\n",
              "      <td>northwest</td>\n",
              "      <td>7201.70</td>\n",
              "    </tr>\n",
              "    <tr>\n",
              "      <th>1320</th>\n",
              "      <td>31</td>\n",
              "      <td>male</td>\n",
              "      <td>31.1</td>\n",
              "      <td>3</td>\n",
              "      <td>no</td>\n",
              "      <td>northwest</td>\n",
              "      <td>5425.02</td>\n",
              "    </tr>\n",
              "    <tr>\n",
              "      <th>1321</th>\n",
              "      <td>62</td>\n",
              "      <td>male</td>\n",
              "      <td>26.7</td>\n",
              "      <td>0</td>\n",
              "      <td>yes</td>\n",
              "      <td>northeast</td>\n",
              "      <td>28101.33</td>\n",
              "    </tr>\n",
              "    <tr>\n",
              "      <th>1322</th>\n",
              "      <td>62</td>\n",
              "      <td>male</td>\n",
              "      <td>38.8</td>\n",
              "      <td>0</td>\n",
              "      <td>no</td>\n",
              "      <td>southeast</td>\n",
              "      <td>12981.35</td>\n",
              "    </tr>\n",
              "    <tr>\n",
              "      <th>1323</th>\n",
              "      <td>42</td>\n",
              "      <td>female</td>\n",
              "      <td>40.4</td>\n",
              "      <td>2</td>\n",
              "      <td>yes</td>\n",
              "      <td>southeast</td>\n",
              "      <td>43896.38</td>\n",
              "    </tr>\n",
              "    <tr>\n",
              "      <th>1324</th>\n",
              "      <td>31</td>\n",
              "      <td>male</td>\n",
              "      <td>25.9</td>\n",
              "      <td>1</td>\n",
              "      <td>no</td>\n",
              "      <td>northwest</td>\n",
              "      <td>4239.89</td>\n",
              "    </tr>\n",
              "    <tr>\n",
              "      <th>1325</th>\n",
              "      <td>61</td>\n",
              "      <td>male</td>\n",
              "      <td>33.5</td>\n",
              "      <td>0</td>\n",
              "      <td>no</td>\n",
              "      <td>northeast</td>\n",
              "      <td>13143.34</td>\n",
              "    </tr>\n",
              "    <tr>\n",
              "      <th>1326</th>\n",
              "      <td>42</td>\n",
              "      <td>female</td>\n",
              "      <td>32.9</td>\n",
              "      <td>0</td>\n",
              "      <td>no</td>\n",
              "      <td>northeast</td>\n",
              "      <td>7050.02</td>\n",
              "    </tr>\n",
              "    <tr>\n",
              "      <th>1327</th>\n",
              "      <td>51</td>\n",
              "      <td>male</td>\n",
              "      <td>30.0</td>\n",
              "      <td>1</td>\n",
              "      <td>no</td>\n",
              "      <td>southeast</td>\n",
              "      <td>9377.90</td>\n",
              "    </tr>\n",
              "    <tr>\n",
              "      <th>1328</th>\n",
              "      <td>23</td>\n",
              "      <td>female</td>\n",
              "      <td>24.2</td>\n",
              "      <td>2</td>\n",
              "      <td>no</td>\n",
              "      <td>northeast</td>\n",
              "      <td>22395.74</td>\n",
              "    </tr>\n",
              "    <tr>\n",
              "      <th>1329</th>\n",
              "      <td>52</td>\n",
              "      <td>male</td>\n",
              "      <td>38.6</td>\n",
              "      <td>2</td>\n",
              "      <td>no</td>\n",
              "      <td>southwest</td>\n",
              "      <td>10325.21</td>\n",
              "    </tr>\n",
              "    <tr>\n",
              "      <th>1330</th>\n",
              "      <td>57</td>\n",
              "      <td>female</td>\n",
              "      <td>25.7</td>\n",
              "      <td>2</td>\n",
              "      <td>no</td>\n",
              "      <td>southeast</td>\n",
              "      <td>12629.17</td>\n",
              "    </tr>\n",
              "    <tr>\n",
              "      <th>1331</th>\n",
              "      <td>23</td>\n",
              "      <td>female</td>\n",
              "      <td>33.4</td>\n",
              "      <td>0</td>\n",
              "      <td>no</td>\n",
              "      <td>southwest</td>\n",
              "      <td>10795.94</td>\n",
              "    </tr>\n",
              "    <tr>\n",
              "      <th>1332</th>\n",
              "      <td>52</td>\n",
              "      <td>female</td>\n",
              "      <td>44.7</td>\n",
              "      <td>3</td>\n",
              "      <td>no</td>\n",
              "      <td>southwest</td>\n",
              "      <td>11411.69</td>\n",
              "    </tr>\n",
              "    <tr>\n",
              "      <th>1333</th>\n",
              "      <td>50</td>\n",
              "      <td>male</td>\n",
              "      <td>31.0</td>\n",
              "      <td>3</td>\n",
              "      <td>no</td>\n",
              "      <td>northwest</td>\n",
              "      <td>10600.55</td>\n",
              "    </tr>\n",
              "    <tr>\n",
              "      <th>1334</th>\n",
              "      <td>18</td>\n",
              "      <td>female</td>\n",
              "      <td>31.9</td>\n",
              "      <td>0</td>\n",
              "      <td>no</td>\n",
              "      <td>northeast</td>\n",
              "      <td>2205.98</td>\n",
              "    </tr>\n",
              "    <tr>\n",
              "      <th>1335</th>\n",
              "      <td>18</td>\n",
              "      <td>female</td>\n",
              "      <td>36.9</td>\n",
              "      <td>0</td>\n",
              "      <td>no</td>\n",
              "      <td>southeast</td>\n",
              "      <td>1629.83</td>\n",
              "    </tr>\n",
              "    <tr>\n",
              "      <th>1336</th>\n",
              "      <td>21</td>\n",
              "      <td>female</td>\n",
              "      <td>25.8</td>\n",
              "      <td>0</td>\n",
              "      <td>no</td>\n",
              "      <td>southwest</td>\n",
              "      <td>2007.95</td>\n",
              "    </tr>\n",
              "    <tr>\n",
              "      <th>1337</th>\n",
              "      <td>61</td>\n",
              "      <td>female</td>\n",
              "      <td>29.1</td>\n",
              "      <td>0</td>\n",
              "      <td>yes</td>\n",
              "      <td>northwest</td>\n",
              "      <td>29141.36</td>\n",
              "    </tr>\n",
              "  </tbody>\n",
              "</table>\n",
              "<p>1338 rows × 7 columns</p>\n",
              "</div>"
            ],
            "text/plain": [
              "      age     sex   bmi  children smoker     region  expenses\n",
              "0      19  female  27.9         0    yes  southwest  16884.92\n",
              "1      18    male  33.8         1     no  southeast   1725.55\n",
              "2      28    male  33.0         3     no  southeast   4449.46\n",
              "3      33    male  22.7         0     no  northwest  21984.47\n",
              "4      32    male  28.9         0     no  northwest   3866.86\n",
              "5      31  female  25.7         0     no  southeast   3756.62\n",
              "6      46  female  33.4         1     no  southeast   8240.59\n",
              "7      37  female  27.7         3     no  northwest   7281.51\n",
              "8      37    male  29.8         2     no  northeast   6406.41\n",
              "9      60  female  25.8         0     no  northwest  28923.14\n",
              "10     25    male  26.2         0     no  northeast   2721.32\n",
              "11     62  female  26.3         0    yes  southeast  27808.73\n",
              "12     23    male  34.4         0     no  southwest   1826.84\n",
              "13     56  female  39.8         0     no  southeast  11090.72\n",
              "14     27    male  42.1         0    yes  southeast  39611.76\n",
              "15     19    male  24.6         1     no  southwest   1837.24\n",
              "16     52  female  30.8         1     no  northeast  10797.34\n",
              "17     23    male  23.8         0     no  northeast   2395.17\n",
              "18     56    male  40.3         0     no  southwest  10602.39\n",
              "19     30    male  35.3         0    yes  southwest  36837.47\n",
              "20     60  female  36.0         0     no  northeast  13228.85\n",
              "21     30  female  32.4         1     no  southwest   4149.74\n",
              "22     18    male  34.1         0     no  southeast   1137.01\n",
              "23     34  female  31.9         1    yes  northeast  37701.88\n",
              "24     37    male  28.0         2     no  northwest   6203.90\n",
              "25     59  female  27.7         3     no  southeast  14001.13\n",
              "26     63  female  23.1         0     no  northeast  14451.84\n",
              "27     55  female  32.8         2     no  northwest  12268.63\n",
              "28     23    male  17.4         1     no  northwest   2775.19\n",
              "29     31    male  36.3         2    yes  southwest  38711.00\n",
              "...   ...     ...   ...       ...    ...        ...       ...\n",
              "1308   25  female  30.2         0    yes  southwest  33900.65\n",
              "1309   41    male  32.2         2     no  southwest   6875.96\n",
              "1310   42    male  26.3         1     no  northwest   6940.91\n",
              "1311   33  female  26.7         0     no  northwest   4571.41\n",
              "1312   34    male  42.9         1     no  southwest   4536.26\n",
              "1313   19  female  34.7         2    yes  southwest  36397.58\n",
              "1314   30  female  23.7         3    yes  northwest  18765.88\n",
              "1315   18    male  28.3         1     no  northeast  11272.33\n",
              "1316   19  female  20.6         0     no  southwest   1731.68\n",
              "1317   18    male  53.1         0     no  southeast   1163.46\n",
              "1318   35    male  39.7         4     no  northeast  19496.72\n",
              "1319   39  female  26.3         2     no  northwest   7201.70\n",
              "1320   31    male  31.1         3     no  northwest   5425.02\n",
              "1321   62    male  26.7         0    yes  northeast  28101.33\n",
              "1322   62    male  38.8         0     no  southeast  12981.35\n",
              "1323   42  female  40.4         2    yes  southeast  43896.38\n",
              "1324   31    male  25.9         1     no  northwest   4239.89\n",
              "1325   61    male  33.5         0     no  northeast  13143.34\n",
              "1326   42  female  32.9         0     no  northeast   7050.02\n",
              "1327   51    male  30.0         1     no  southeast   9377.90\n",
              "1328   23  female  24.2         2     no  northeast  22395.74\n",
              "1329   52    male  38.6         2     no  southwest  10325.21\n",
              "1330   57  female  25.7         2     no  southeast  12629.17\n",
              "1331   23  female  33.4         0     no  southwest  10795.94\n",
              "1332   52  female  44.7         3     no  southwest  11411.69\n",
              "1333   50    male  31.0         3     no  northwest  10600.55\n",
              "1334   18  female  31.9         0     no  northeast   2205.98\n",
              "1335   18  female  36.9         0     no  southeast   1629.83\n",
              "1336   21  female  25.8         0     no  southwest   2007.95\n",
              "1337   61  female  29.1         0    yes  northwest  29141.36\n",
              "\n",
              "[1338 rows x 7 columns]"
            ]
          },
          "metadata": {
            "tags": []
          },
          "execution_count": 4
        }
      ]
    },
    {
      "cell_type": "code",
      "metadata": {
        "id": "Dfq6U--HOEF_",
        "colab_type": "code",
        "colab": {}
      },
      "source": [
        "A,B = train_test_split(df, test_size=0.7)  # A=30 , B= 70"
      ],
      "execution_count": 0,
      "outputs": []
    },
    {
      "cell_type": "code",
      "metadata": {
        "id": "4ZGSgYmHOEGC",
        "colab_type": "code",
        "outputId": "262b48ca-d393-45bf-9f88-5960c55baae3",
        "colab": {
          "base_uri": "https://localhost:8080/",
          "height": 297
        }
      },
      "source": [
        "A.describe()"
      ],
      "execution_count": 0,
      "outputs": [
        {
          "output_type": "execute_result",
          "data": {
            "text/html": [
              "<div>\n",
              "<style scoped>\n",
              "    .dataframe tbody tr th:only-of-type {\n",
              "        vertical-align: middle;\n",
              "    }\n",
              "\n",
              "    .dataframe tbody tr th {\n",
              "        vertical-align: top;\n",
              "    }\n",
              "\n",
              "    .dataframe thead th {\n",
              "        text-align: right;\n",
              "    }\n",
              "</style>\n",
              "<table border=\"1\" class=\"dataframe\">\n",
              "  <thead>\n",
              "    <tr style=\"text-align: right;\">\n",
              "      <th></th>\n",
              "      <th>age</th>\n",
              "      <th>bmi</th>\n",
              "      <th>children</th>\n",
              "      <th>expenses</th>\n",
              "    </tr>\n",
              "  </thead>\n",
              "  <tbody>\n",
              "    <tr>\n",
              "      <th>count</th>\n",
              "      <td>401.000000</td>\n",
              "      <td>401.000000</td>\n",
              "      <td>401.000000</td>\n",
              "      <td>401.000000</td>\n",
              "    </tr>\n",
              "    <tr>\n",
              "      <th>mean</th>\n",
              "      <td>38.359102</td>\n",
              "      <td>30.672569</td>\n",
              "      <td>1.132170</td>\n",
              "      <td>13382.572918</td>\n",
              "    </tr>\n",
              "    <tr>\n",
              "      <th>std</th>\n",
              "      <td>14.059186</td>\n",
              "      <td>6.054163</td>\n",
              "      <td>1.222697</td>\n",
              "      <td>12341.666174</td>\n",
              "    </tr>\n",
              "    <tr>\n",
              "      <th>min</th>\n",
              "      <td>18.000000</td>\n",
              "      <td>16.800000</td>\n",
              "      <td>0.000000</td>\n",
              "      <td>1149.400000</td>\n",
              "    </tr>\n",
              "    <tr>\n",
              "      <th>25%</th>\n",
              "      <td>26.000000</td>\n",
              "      <td>26.500000</td>\n",
              "      <td>0.000000</td>\n",
              "      <td>4564.190000</td>\n",
              "    </tr>\n",
              "    <tr>\n",
              "      <th>50%</th>\n",
              "      <td>38.000000</td>\n",
              "      <td>30.100000</td>\n",
              "      <td>1.000000</td>\n",
              "      <td>9095.070000</td>\n",
              "    </tr>\n",
              "    <tr>\n",
              "      <th>75%</th>\n",
              "      <td>51.000000</td>\n",
              "      <td>34.800000</td>\n",
              "      <td>2.000000</td>\n",
              "      <td>18157.880000</td>\n",
              "    </tr>\n",
              "    <tr>\n",
              "      <th>max</th>\n",
              "      <td>64.000000</td>\n",
              "      <td>52.600000</td>\n",
              "      <td>5.000000</td>\n",
              "      <td>58571.070000</td>\n",
              "    </tr>\n",
              "  </tbody>\n",
              "</table>\n",
              "</div>"
            ],
            "text/plain": [
              "              age         bmi    children      expenses\n",
              "count  401.000000  401.000000  401.000000    401.000000\n",
              "mean    38.359102   30.672569    1.132170  13382.572918\n",
              "std     14.059186    6.054163    1.222697  12341.666174\n",
              "min     18.000000   16.800000    0.000000   1149.400000\n",
              "25%     26.000000   26.500000    0.000000   4564.190000\n",
              "50%     38.000000   30.100000    1.000000   9095.070000\n",
              "75%     51.000000   34.800000    2.000000  18157.880000\n",
              "max     64.000000   52.600000    5.000000  58571.070000"
            ]
          },
          "metadata": {
            "tags": []
          },
          "execution_count": 6
        }
      ]
    },
    {
      "cell_type": "code",
      "metadata": {
        "id": "zCNf-MyWOEGF",
        "colab_type": "code",
        "outputId": "3b3aa5c6-a577-40ad-e77e-458cbd07b6d8",
        "colab": {
          "base_uri": "https://localhost:8080/",
          "height": 297
        }
      },
      "source": [
        "B.describe()"
      ],
      "execution_count": 0,
      "outputs": [
        {
          "output_type": "execute_result",
          "data": {
            "text/html": [
              "<div>\n",
              "<style scoped>\n",
              "    .dataframe tbody tr th:only-of-type {\n",
              "        vertical-align: middle;\n",
              "    }\n",
              "\n",
              "    .dataframe tbody tr th {\n",
              "        vertical-align: top;\n",
              "    }\n",
              "\n",
              "    .dataframe thead th {\n",
              "        text-align: right;\n",
              "    }\n",
              "</style>\n",
              "<table border=\"1\" class=\"dataframe\">\n",
              "  <thead>\n",
              "    <tr style=\"text-align: right;\">\n",
              "      <th></th>\n",
              "      <th>age</th>\n",
              "      <th>bmi</th>\n",
              "      <th>children</th>\n",
              "      <th>expenses</th>\n",
              "    </tr>\n",
              "  </thead>\n",
              "  <tbody>\n",
              "    <tr>\n",
              "      <th>count</th>\n",
              "      <td>937.000000</td>\n",
              "      <td>937.000000</td>\n",
              "      <td>937.000000</td>\n",
              "      <td>937.000000</td>\n",
              "    </tr>\n",
              "    <tr>\n",
              "      <th>mean</th>\n",
              "      <td>39.569904</td>\n",
              "      <td>30.662433</td>\n",
              "      <td>1.078975</td>\n",
              "      <td>13222.426307</td>\n",
              "    </tr>\n",
              "    <tr>\n",
              "      <th>std</th>\n",
              "      <td>14.037864</td>\n",
              "      <td>6.120426</td>\n",
              "      <td>1.198359</td>\n",
              "      <td>12015.851795</td>\n",
              "    </tr>\n",
              "    <tr>\n",
              "      <th>min</th>\n",
              "      <td>18.000000</td>\n",
              "      <td>16.000000</td>\n",
              "      <td>0.000000</td>\n",
              "      <td>1121.870000</td>\n",
              "    </tr>\n",
              "    <tr>\n",
              "      <th>25%</th>\n",
              "      <td>27.000000</td>\n",
              "      <td>26.200000</td>\n",
              "      <td>0.000000</td>\n",
              "      <td>4846.920000</td>\n",
              "    </tr>\n",
              "    <tr>\n",
              "      <th>50%</th>\n",
              "      <td>40.000000</td>\n",
              "      <td>30.500000</td>\n",
              "      <td>1.000000</td>\n",
              "      <td>9487.640000</td>\n",
              "    </tr>\n",
              "    <tr>\n",
              "      <th>75%</th>\n",
              "      <td>52.000000</td>\n",
              "      <td>34.600000</td>\n",
              "      <td>2.000000</td>\n",
              "      <td>16115.300000</td>\n",
              "    </tr>\n",
              "    <tr>\n",
              "      <th>max</th>\n",
              "      <td>64.000000</td>\n",
              "      <td>53.100000</td>\n",
              "      <td>5.000000</td>\n",
              "      <td>63770.430000</td>\n",
              "    </tr>\n",
              "  </tbody>\n",
              "</table>\n",
              "</div>"
            ],
            "text/plain": [
              "              age         bmi    children      expenses\n",
              "count  937.000000  937.000000  937.000000    937.000000\n",
              "mean    39.569904   30.662433    1.078975  13222.426307\n",
              "std     14.037864    6.120426    1.198359  12015.851795\n",
              "min     18.000000   16.000000    0.000000   1121.870000\n",
              "25%     27.000000   26.200000    0.000000   4846.920000\n",
              "50%     40.000000   30.500000    1.000000   9487.640000\n",
              "75%     52.000000   34.600000    2.000000  16115.300000\n",
              "max     64.000000   53.100000    5.000000  63770.430000"
            ]
          },
          "metadata": {
            "tags": []
          },
          "execution_count": 7
        }
      ]
    },
    {
      "cell_type": "code",
      "metadata": {
        "id": "Cm99T_bSOEGI",
        "colab_type": "code",
        "colab": {}
      },
      "source": [
        "# Sampling pandas dataframe without replacement\n",
        "sam = []\n",
        "for i in range(10):\n",
        "    sam.append(df.sample(n=100,replace= False))"
      ],
      "execution_count": 0,
      "outputs": []
    },
    {
      "cell_type": "code",
      "metadata": {
        "id": "zmjGS1k4OEGK",
        "colab_type": "code",
        "colab": {}
      },
      "source": [
        "# Sampling pandas dataframe with replacement\n",
        "sam2 = []\n",
        "for i in range(10):\n",
        "    sam2.append(df.sample(n=100,replace= True))"
      ],
      "execution_count": 0,
      "outputs": []
    },
    {
      "cell_type": "markdown",
      "metadata": {
        "id": "OuP3YPceOEGN",
        "colab_type": "text"
      },
      "source": [
        "# Central Tendecy column wise\n"
      ]
    },
    {
      "cell_type": "code",
      "metadata": {
        "id": "YYVaK4YfOEGN",
        "colab_type": "code",
        "outputId": "7362220d-46d2-4d27-ea24-5918d55c4922",
        "colab": {
          "base_uri": "https://localhost:8080/",
          "height": 34
        }
      },
      "source": [
        "df.columns"
      ],
      "execution_count": 0,
      "outputs": [
        {
          "output_type": "execute_result",
          "data": {
            "text/plain": [
              "Index(['age', 'sex', 'bmi', 'children', 'smoker', 'region', 'expenses'], dtype='object')"
            ]
          },
          "metadata": {
            "tags": []
          },
          "execution_count": 10
        }
      ]
    },
    {
      "cell_type": "markdown",
      "metadata": {
        "id": "M6-Y5WD1OEGP",
        "colab_type": "text"
      },
      "source": [
        "#### Mean "
      ]
    },
    {
      "cell_type": "code",
      "metadata": {
        "id": "UC3ZNcmWOEGQ",
        "colab_type": "code",
        "outputId": "d2470791-e3a0-41fa-de40-80b96d5549d4",
        "colab": {
          "base_uri": "https://localhost:8080/",
          "height": 34
        }
      },
      "source": [
        "statistics.mean(df['age'])"
      ],
      "execution_count": 0,
      "outputs": [
        {
          "output_type": "execute_result",
          "data": {
            "text/plain": [
              "39.20702541106129"
            ]
          },
          "metadata": {
            "tags": []
          },
          "execution_count": 11
        }
      ]
    },
    {
      "cell_type": "code",
      "metadata": {
        "id": "K1Sc5vc0OEGS",
        "colab_type": "code",
        "outputId": "a74b4ca2-30df-4ced-d1f6-476a28dd56a2",
        "colab": {
          "base_uri": "https://localhost:8080/",
          "height": 34
        }
      },
      "source": [
        "statistics.mean(df['bmi'])"
      ],
      "execution_count": 0,
      "outputs": [
        {
          "output_type": "execute_result",
          "data": {
            "text/plain": [
              "30.665470852017936"
            ]
          },
          "metadata": {
            "tags": []
          },
          "execution_count": 12
        }
      ]
    },
    {
      "cell_type": "code",
      "metadata": {
        "id": "tTXS7Sp3OEGU",
        "colab_type": "code",
        "outputId": "218e09bc-d810-46b0-b657-c7bf38516341",
        "colab": {
          "base_uri": "https://localhost:8080/",
          "height": 34
        }
      },
      "source": [
        "statistics.mean(df['children'])"
      ],
      "execution_count": 0,
      "outputs": [
        {
          "output_type": "execute_result",
          "data": {
            "text/plain": [
              "1.0949177877429"
            ]
          },
          "metadata": {
            "tags": []
          },
          "execution_count": 13
        }
      ]
    },
    {
      "cell_type": "code",
      "metadata": {
        "id": "R9j3INxwOEGW",
        "colab_type": "code",
        "outputId": "741017df-0a6a-4a19-bf67-89710e1a75ce",
        "colab": {
          "base_uri": "https://localhost:8080/",
          "height": 34
        }
      },
      "source": [
        "statistics.mean(df['expenses'])"
      ],
      "execution_count": 0,
      "outputs": [
        {
          "output_type": "execute_result",
          "data": {
            "text/plain": [
              "13270.422414050821"
            ]
          },
          "metadata": {
            "tags": []
          },
          "execution_count": 14
        }
      ]
    },
    {
      "cell_type": "code",
      "metadata": {
        "id": "vvTtox9NOEGY",
        "colab_type": "code",
        "outputId": "e9de6bda-4a07-4f19-cf70-d2c6145802b7",
        "colab": {
          "base_uri": "https://localhost:8080/",
          "height": 102
        }
      },
      "source": [
        "df['sex'].describe()"
      ],
      "execution_count": 0,
      "outputs": [
        {
          "output_type": "execute_result",
          "data": {
            "text/plain": [
              "count     1338\n",
              "unique       2\n",
              "top       male\n",
              "freq       676\n",
              "Name: sex, dtype: object"
            ]
          },
          "metadata": {
            "tags": []
          },
          "execution_count": 15
        }
      ]
    },
    {
      "cell_type": "code",
      "metadata": {
        "id": "atTH-O1rOEGa",
        "colab_type": "code",
        "outputId": "fafead0f-3991-4b98-8f4a-8f65333b00c9",
        "colab": {
          "base_uri": "https://localhost:8080/",
          "height": 102
        }
      },
      "source": [
        "df['smoker'].describe()"
      ],
      "execution_count": 0,
      "outputs": [
        {
          "output_type": "execute_result",
          "data": {
            "text/plain": [
              "count     1338\n",
              "unique       2\n",
              "top         no\n",
              "freq      1064\n",
              "Name: smoker, dtype: object"
            ]
          },
          "metadata": {
            "tags": []
          },
          "execution_count": 16
        }
      ]
    },
    {
      "cell_type": "code",
      "metadata": {
        "id": "GxulKQroOEGe",
        "colab_type": "code",
        "outputId": "42a05405-7da3-4468-9efa-a9f5bae00de6",
        "colab": {
          "base_uri": "https://localhost:8080/",
          "height": 102
        }
      },
      "source": [
        "df['region'].describe()"
      ],
      "execution_count": 0,
      "outputs": [
        {
          "output_type": "execute_result",
          "data": {
            "text/plain": [
              "count          1338\n",
              "unique            4\n",
              "top       southeast\n",
              "freq            364\n",
              "Name: region, dtype: object"
            ]
          },
          "metadata": {
            "tags": []
          },
          "execution_count": 17
        }
      ]
    },
    {
      "cell_type": "markdown",
      "metadata": {
        "id": "iWcNSssXOEGg",
        "colab_type": "text"
      },
      "source": [
        "#### Median"
      ]
    },
    {
      "cell_type": "code",
      "metadata": {
        "id": "LJl28HdOOEGh",
        "colab_type": "code",
        "outputId": "82508e0e-a654-4ad7-b579-cbde97561f49",
        "colab": {
          "base_uri": "https://localhost:8080/",
          "height": 34
        }
      },
      "source": [
        "statistics.median(df['age'])"
      ],
      "execution_count": 0,
      "outputs": [
        {
          "output_type": "execute_result",
          "data": {
            "text/plain": [
              "39.0"
            ]
          },
          "metadata": {
            "tags": []
          },
          "execution_count": 18
        }
      ]
    },
    {
      "cell_type": "code",
      "metadata": {
        "id": "QMv5zfMDOEGj",
        "colab_type": "code",
        "outputId": "2d6cd19c-8b6e-4044-a3fa-266f78c2d304",
        "colab": {
          "base_uri": "https://localhost:8080/",
          "height": 34
        }
      },
      "source": [
        "statistics.median(df['bmi'])"
      ],
      "execution_count": 0,
      "outputs": [
        {
          "output_type": "execute_result",
          "data": {
            "text/plain": [
              "30.4"
            ]
          },
          "metadata": {
            "tags": []
          },
          "execution_count": 19
        }
      ]
    },
    {
      "cell_type": "code",
      "metadata": {
        "id": "j0Lckq2cOEGk",
        "colab_type": "code",
        "outputId": "3c00c092-e6cf-495f-9eb1-335b622b8f25",
        "colab": {
          "base_uri": "https://localhost:8080/",
          "height": 34
        }
      },
      "source": [
        "statistics.median(df['children'])"
      ],
      "execution_count": 0,
      "outputs": [
        {
          "output_type": "execute_result",
          "data": {
            "text/plain": [
              "1.0"
            ]
          },
          "metadata": {
            "tags": []
          },
          "execution_count": 20
        }
      ]
    },
    {
      "cell_type": "code",
      "metadata": {
        "id": "i5KzoQZ8OEGn",
        "colab_type": "code",
        "outputId": "768040c8-d3d4-4e18-98a3-f66438a2cc66",
        "colab": {
          "base_uri": "https://localhost:8080/",
          "height": 34
        }
      },
      "source": [
        "statistics.median(df['expenses'])"
      ],
      "execution_count": 0,
      "outputs": [
        {
          "output_type": "execute_result",
          "data": {
            "text/plain": [
              "9382.029999999999"
            ]
          },
          "metadata": {
            "tags": []
          },
          "execution_count": 21
        }
      ]
    },
    {
      "cell_type": "markdown",
      "metadata": {
        "id": "kfMiub9nOEGq",
        "colab_type": "text"
      },
      "source": [
        "#### Mode"
      ]
    },
    {
      "cell_type": "code",
      "metadata": {
        "id": "63rh1a6jOEGr",
        "colab_type": "code",
        "outputId": "56a88936-a546-4e24-c51c-6c798c4f2144",
        "colab": {
          "base_uri": "https://localhost:8080/",
          "height": 34
        }
      },
      "source": [
        "statistics.mode(df['age'])"
      ],
      "execution_count": 0,
      "outputs": [
        {
          "output_type": "execute_result",
          "data": {
            "text/plain": [
              "18"
            ]
          },
          "metadata": {
            "tags": []
          },
          "execution_count": 22
        }
      ]
    },
    {
      "cell_type": "code",
      "metadata": {
        "id": "u0mik00JTGER",
        "colab_type": "code",
        "outputId": "60e71cb4-3958-4698-b116-81e75696a106",
        "colab": {
          "base_uri": "https://localhost:8080/",
          "height": 1000
        }
      },
      "source": [
        "df['bmi']"
      ],
      "execution_count": 0,
      "outputs": [
        {
          "output_type": "execute_result",
          "data": {
            "text/plain": [
              "0       27.9\n",
              "1       33.8\n",
              "2       33.0\n",
              "3       22.7\n",
              "4       28.9\n",
              "5       25.7\n",
              "6       33.4\n",
              "7       27.7\n",
              "8       29.8\n",
              "9       25.8\n",
              "10      26.2\n",
              "11      26.3\n",
              "12      34.4\n",
              "13      39.8\n",
              "14      42.1\n",
              "15      24.6\n",
              "16      30.8\n",
              "17      23.8\n",
              "18      40.3\n",
              "19      35.3\n",
              "20      36.0\n",
              "21      32.4\n",
              "22      34.1\n",
              "23      31.9\n",
              "24      28.0\n",
              "25      27.7\n",
              "26      23.1\n",
              "27      32.8\n",
              "28      17.4\n",
              "29      36.3\n",
              "        ... \n",
              "1308    30.2\n",
              "1309    32.2\n",
              "1310    26.3\n",
              "1311    26.7\n",
              "1312    42.9\n",
              "1313    34.7\n",
              "1314    23.7\n",
              "1315    28.3\n",
              "1316    20.6\n",
              "1317    53.1\n",
              "1318    39.7\n",
              "1319    26.3\n",
              "1320    31.1\n",
              "1321    26.7\n",
              "1322    38.8\n",
              "1323    40.4\n",
              "1324    25.9\n",
              "1325    33.5\n",
              "1326    32.9\n",
              "1327    30.0\n",
              "1328    24.2\n",
              "1329    38.6\n",
              "1330    25.7\n",
              "1331    33.4\n",
              "1332    44.7\n",
              "1333    31.0\n",
              "1334    31.9\n",
              "1335    36.9\n",
              "1336    25.8\n",
              "1337    29.1\n",
              "Name: bmi, Length: 1338, dtype: float64"
            ]
          },
          "metadata": {
            "tags": []
          },
          "execution_count": 23
        }
      ]
    },
    {
      "cell_type": "code",
      "metadata": {
        "id": "DyK6Y1PUZwxo",
        "colab_type": "code",
        "outputId": "a0a6b832-4cb7-4f00-c3c5-fc935c87bdf2",
        "colab": {
          "base_uri": "https://localhost:8080/",
          "height": 1000
        }
      },
      "source": [
        "df['bmi']"
      ],
      "execution_count": 0,
      "outputs": [
        {
          "output_type": "execute_result",
          "data": {
            "text/plain": [
              "0       27.9\n",
              "1       33.8\n",
              "2       33.0\n",
              "3       22.7\n",
              "4       28.9\n",
              "5       25.7\n",
              "6       33.4\n",
              "7       27.7\n",
              "8       29.8\n",
              "9       25.8\n",
              "10      26.2\n",
              "11      26.3\n",
              "12      34.4\n",
              "13      39.8\n",
              "14      42.1\n",
              "15      24.6\n",
              "16      30.8\n",
              "17      23.8\n",
              "18      40.3\n",
              "19      35.3\n",
              "20      36.0\n",
              "21      32.4\n",
              "22      34.1\n",
              "23      31.9\n",
              "24      28.0\n",
              "25      27.7\n",
              "26      23.1\n",
              "27      32.8\n",
              "28      17.4\n",
              "29      36.3\n",
              "        ... \n",
              "1308    30.2\n",
              "1309    32.2\n",
              "1310    26.3\n",
              "1311    26.7\n",
              "1312    42.9\n",
              "1313    34.7\n",
              "1314    23.7\n",
              "1315    28.3\n",
              "1316    20.6\n",
              "1317    53.1\n",
              "1318    39.7\n",
              "1319    26.3\n",
              "1320    31.1\n",
              "1321    26.7\n",
              "1322    38.8\n",
              "1323    40.4\n",
              "1324    25.9\n",
              "1325    33.5\n",
              "1326    32.9\n",
              "1327    30.0\n",
              "1328    24.2\n",
              "1329    38.6\n",
              "1330    25.7\n",
              "1331    33.4\n",
              "1332    44.7\n",
              "1333    31.0\n",
              "1334    31.9\n",
              "1335    36.9\n",
              "1336    25.8\n",
              "1337    29.1\n",
              "Name: bmi, Length: 1338, dtype: float64"
            ]
          },
          "metadata": {
            "tags": []
          },
          "execution_count": 24
        }
      ]
    },
    {
      "cell_type": "code",
      "metadata": {
        "id": "Hl56hEz5OEGv",
        "colab_type": "code",
        "outputId": "b0ac2868-ca82-406d-8857-006af65567c6",
        "colab": {
          "base_uri": "https://localhost:8080/",
          "height": 34
        }
      },
      "source": [
        "statistics.mode(df['children'])"
      ],
      "execution_count": 0,
      "outputs": [
        {
          "output_type": "execute_result",
          "data": {
            "text/plain": [
              "0"
            ]
          },
          "metadata": {
            "tags": []
          },
          "execution_count": 30
        }
      ]
    },
    {
      "cell_type": "code",
      "metadata": {
        "id": "618EBr49OEGx",
        "colab_type": "code",
        "outputId": "8a23b7ee-39b3-4adc-cfeb-782384374d60",
        "colab": {
          "base_uri": "https://localhost:8080/",
          "height": 34
        }
      },
      "source": [
        "statistics.mode(df['region'])"
      ],
      "execution_count": 0,
      "outputs": [
        {
          "output_type": "execute_result",
          "data": {
            "text/plain": [
              "'southeast'"
            ]
          },
          "metadata": {
            "tags": []
          },
          "execution_count": 31
        }
      ]
    },
    {
      "cell_type": "code",
      "metadata": {
        "id": "HsKVcZH_OEGy",
        "colab_type": "code",
        "colab": {}
      },
      "source": [
        "statistics.mode(df['expenses'])"
      ],
      "execution_count": 0,
      "outputs": []
    },
    {
      "cell_type": "markdown",
      "metadata": {
        "id": "t-J2yLc6OEG0",
        "colab_type": "text"
      },
      "source": [
        "#### Variance"
      ]
    },
    {
      "cell_type": "code",
      "metadata": {
        "id": "AumENhSwOEG0",
        "colab_type": "code",
        "colab": {}
      },
      "source": [
        "statistics.variance(df['age'])"
      ],
      "execution_count": 0,
      "outputs": []
    },
    {
      "cell_type": "code",
      "metadata": {
        "id": "TLs2OGXGOEG2",
        "colab_type": "code",
        "colab": {}
      },
      "source": [
        "statistics.variance(df['children'])"
      ],
      "execution_count": 0,
      "outputs": []
    },
    {
      "cell_type": "code",
      "metadata": {
        "id": "IJe4hKM2OEG3",
        "colab_type": "code",
        "colab": {}
      },
      "source": [
        "statistics.variance(df['bmi'])"
      ],
      "execution_count": 0,
      "outputs": []
    },
    {
      "cell_type": "code",
      "metadata": {
        "id": "4bZddDZcOEG5",
        "colab_type": "code",
        "colab": {}
      },
      "source": [
        "statistics.variance(df['expenses'])"
      ],
      "execution_count": 0,
      "outputs": []
    },
    {
      "cell_type": "markdown",
      "metadata": {
        "id": "m5ANQnioOEG8",
        "colab_type": "text"
      },
      "source": [
        "#### Standard Deviation"
      ]
    },
    {
      "cell_type": "code",
      "metadata": {
        "id": "AHAyJu2ZOEG8",
        "colab_type": "code",
        "outputId": "3cca0ca9-7cb9-4967-954e-e042c8542a2f",
        "colab": {
          "base_uri": "https://localhost:8080/",
          "height": 34
        }
      },
      "source": [
        "statistics.stdev(df['age'])"
      ],
      "execution_count": 0,
      "outputs": [
        {
          "output_type": "execute_result",
          "data": {
            "text/plain": [
              "14.049960379216156"
            ]
          },
          "metadata": {
            "tags": []
          },
          "execution_count": 29
        }
      ]
    },
    {
      "cell_type": "code",
      "metadata": {
        "id": "ypcLUW4TOEG_",
        "colab_type": "code",
        "outputId": "498c41e1-b0de-4a83-85e0-baedf6f4d6e5",
        "colab": {
          "base_uri": "https://localhost:8080/",
          "height": 34
        }
      },
      "source": [
        "statistics.stdev(df['bmi'])"
      ],
      "execution_count": 0,
      "outputs": [
        {
          "output_type": "execute_result",
          "data": {
            "text/plain": [
              "6.098382190003363"
            ]
          },
          "metadata": {
            "tags": []
          },
          "execution_count": 30
        }
      ]
    },
    {
      "cell_type": "code",
      "metadata": {
        "id": "1un2OjHLOEHA",
        "colab_type": "code",
        "outputId": "2a44f964-4bdc-4dfd-ac2c-cce15cd0744b",
        "colab": {
          "base_uri": "https://localhost:8080/",
          "height": 34
        }
      },
      "source": [
        "statistics.stdev(df['children'])"
      ],
      "execution_count": 0,
      "outputs": [
        {
          "output_type": "execute_result",
          "data": {
            "text/plain": [
              "1.2054927397819137"
            ]
          },
          "metadata": {
            "tags": []
          },
          "execution_count": 31
        }
      ]
    },
    {
      "cell_type": "code",
      "metadata": {
        "id": "9sd0uIuMOEHC",
        "colab_type": "code",
        "outputId": "6b556128-25f4-45e1-a068-be6dbe7d0e5a",
        "colab": {
          "base_uri": "https://localhost:8080/",
          "height": 34
        }
      },
      "source": [
        "statistics.stdev(df['expenses'])"
      ],
      "execution_count": 0,
      "outputs": [
        {
          "output_type": "execute_result",
          "data": {
            "text/plain": [
              "12110.011239706468"
            ]
          },
          "metadata": {
            "tags": []
          },
          "execution_count": 32
        }
      ]
    },
    {
      "cell_type": "markdown",
      "metadata": {
        "id": "t5o2eT-VOEHD",
        "colab_type": "text"
      },
      "source": [
        "#### IQR"
      ]
    },
    {
      "cell_type": "markdown",
      "metadata": {
        "id": "wgTkTwuaOEHE",
        "colab_type": "text"
      },
      "source": [
        "AGE"
      ]
    },
    {
      "cell_type": "code",
      "metadata": {
        "id": "dy8PhqVrOEHE",
        "colab_type": "code",
        "outputId": "cc9458a3-0ddb-4269-d42d-f8957f62ded1",
        "colab": {
          "base_uri": "https://localhost:8080/",
          "height": 287
        }
      },
      "source": [
        "# Computing IQR\n",
        "Q1 = df['age'].quantile(0.25)\n",
        "Q3 = df['age'].quantile(0.75)\n",
        "IQR = Q3 - Q1\n",
        "\n",
        "# Filtering Values between Q1-1.5IQR and Q3+1.5IQR\n",
        "filtered = df.query('(@Q1 - 1.5 * @IQR) <= age <= (@Q3 + 1.5 * @IQR)')\n",
        "\n",
        "# Ploting the result to check the difference\n",
        "df.join(filtered, rsuffix='_filtered').boxplot()"
      ],
      "execution_count": 0,
      "outputs": [
        {
          "output_type": "execute_result",
          "data": {
            "text/plain": [
              "<matplotlib.axes._subplots.AxesSubplot at 0x7f12347926a0>"
            ]
          },
          "metadata": {
            "tags": []
          },
          "execution_count": 33
        },
        {
          "output_type": "display_data",
          "data": {
            "image/png": "[encoded data removed]",
            "text/plain": [
              "<Figure size 432x288 with 1 Axes>"
            ]
          },
          "metadata": {
            "tags": []
          }
        }
      ]
    },
    {
      "cell_type": "markdown",
      "metadata": {
        "id": "hpZe8GX2OEHI",
        "colab_type": "text"
      },
      "source": [
        "SEX"
      ]
    },
    {
      "cell_type": "code",
      "metadata": {
        "id": "eencDP26OEHI",
        "colab_type": "code",
        "outputId": "7ae9dfa2-7b41-43bf-f81d-335025f53548",
        "colab": {
          "base_uri": "https://localhost:8080/",
          "height": 287
        }
      },
      "source": [
        "# Computing IQR\n",
        "Q1 = df['bmi'].quantile(0.25)\n",
        "Q3 = df['bmi'].quantile(0.75)\n",
        "IQR = Q3 - Q1\n",
        "\n",
        "# Filtering Values between Q1-1.5IQR and Q3+1.5IQR\n",
        "filtered = df.query('(@Q1 - 1.5 * @IQR) <= bmi <= (@Q3 + 1.5 * @IQR)')\n",
        "\n",
        "# Ploting the result to check the difference\n",
        "df.join(filtered, rsuffix='_filtered').boxplot()"
      ],
      "execution_count": 0,
      "outputs": [
        {
          "output_type": "execute_result",
          "data": {
            "text/plain": [
              "<matplotlib.axes._subplots.AxesSubplot at 0x7f1230b235c0>"
            ]
          },
          "metadata": {
            "tags": []
          },
          "execution_count": 34
        },
        {
          "output_type": "display_data",
          "data": {
            "image/png": "[encoded data removed]",
            "text/plain": [
              "<Figure size 432x288 with 1 Axes>"
            ]
          },
          "metadata": {
            "tags": []
          }
        }
      ]
    },
    {
      "cell_type": "markdown",
      "metadata": {
        "id": "hneeI2XKOEHK",
        "colab_type": "text"
      },
      "source": [
        "CHILDREN"
      ]
    },
    {
      "cell_type": "code",
      "metadata": {
        "id": "CDH6FbB-OEHL",
        "colab_type": "code",
        "outputId": "314d675e-6180-4fc3-ee44-8c15bc6fc0ed",
        "colab": {
          "base_uri": "https://localhost:8080/",
          "height": 287
        }
      },
      "source": [
        "# Computing IQR\n",
        "Q1 = df['children'].quantile(0.25)\n",
        "Q3 = df['children'].quantile(0.75)\n",
        "IQR = Q3 - Q1\n",
        "\n",
        "# Filtering Values between Q1-1.5IQR and Q3+1.5IQR\n",
        "filtered = df.query('(@Q1 - 1.5 * @IQR) <= children <= (@Q3 + 1.5 * @IQR)')\n",
        "\n",
        "# Ploting the result to check the difference\n",
        "df.join(filtered, rsuffix='_filtered').boxplot()"
      ],
      "execution_count": 0,
      "outputs": [
        {
          "output_type": "execute_result",
          "data": {
            "text/plain": [
              "<matplotlib.axes._subplots.AxesSubplot at 0x7f1230a89c88>"
            ]
          },
          "metadata": {
            "tags": []
          },
          "execution_count": 35
        },
        {
          "output_type": "display_data",
          "data": {
            "image/png": "[encoded data removed]",
            "text/plain": [
              "<Figure size 432x288 with 1 Axes>"
            ]
          },
          "metadata": {
            "tags": []
          }
        }
      ]
    },
    {
      "cell_type": "markdown",
      "metadata": {
        "id": "oEVK8hIIOEHM",
        "colab_type": "text"
      },
      "source": [
        "EXPENSES"
      ]
    },
    {
      "cell_type": "code",
      "metadata": {
        "id": "oVAqa8agOEHN",
        "colab_type": "code",
        "outputId": "a92cd61d-c03f-4d1c-b341-491a5c29560a",
        "colab": {
          "base_uri": "https://localhost:8080/",
          "height": 287
        }
      },
      "source": [
        "# Computing IQR\n",
        "Q1 = df['expenses'].quantile(0.25)\n",
        "Q3 = df['expenses'].quantile(0.75)\n",
        "IQR = Q3 - Q1\n",
        "\n",
        "# Filtering Values between Q1-1.5IQR and Q3+1.5IQR\n",
        "filtered = df.query('(@Q1 - 1.5 * @IQR) <= expenses <= (@Q3 + 1.5 * @IQR)')\n",
        "\n",
        "# Ploting the result to check the difference\n",
        "df.join(filtered, rsuffix='_filtered').boxplot()"
      ],
      "execution_count": 0,
      "outputs": [
        {
          "output_type": "execute_result",
          "data": {
            "text/plain": [
              "<matplotlib.axes._subplots.AxesSubplot at 0x7f1230988630>"
            ]
          },
          "metadata": {
            "tags": []
          },
          "execution_count": 36
        },
        {
          "output_type": "display_data",
          "data": {
            "image/png": "[encoded data removed]",
            "text/plain": [
              "<Figure size 432x288 with 1 Axes>"
            ]
          },
          "metadata": {
            "tags": []
          }
        }
      ]
    }
  ]
}